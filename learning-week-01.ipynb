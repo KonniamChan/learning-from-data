{
 "cells": [
  {
   "cell_type": "markdown",
   "metadata": {},
   "source": [
    "# Learning from Data Week 1"
   ]
  },
  {
   "cell_type": "code",
   "execution_count": 2,
   "metadata": {
    "collapsed": true
   },
   "outputs": [],
   "source": [
    "%matplotlib inline\n",
    "import matplotlib.pyplot as plt\n",
    "import numpy as np\n",
    "import seaborn as sns\n",
    "from numpy.random import uniform\n",
    "\n",
    "# Set randomizer seed\n",
    "np.random.seed(0)"
   ]
  },
  {
   "cell_type": "markdown",
   "metadata": {},
   "source": [
    "## Perceptron Algorithm"
   ]
  },
  {
   "cell_type": "code",
   "execution_count": 3,
   "metadata": {
    "collapsed": false
   },
   "outputs": [],
   "source": [
    "# Generate random points\n",
    "def generate_points(N):\n",
    "    \"\"\"\n",
    "    Input: number of random points to be generated in [-1,1]x[-1,1]\n",
    "    Output: coordinates of points, adding x0 = 1's\n",
    "    \"\"\"\n",
    "    xs = uniform(-1,1,N)\n",
    "    ys = uniform(-1,1,N)\n",
    "    # Generate vector of ones in the 0th column\n",
    "    return np.array(zip(np.ones(N), xs, ys))\n",
    "\n",
    "points = generate_points(100)"
   ]
  },
  {
   "cell_type": "code",
   "execution_count": 4,
   "metadata": {
    "collapsed": false
   },
   "outputs": [],
   "source": [
    "# Create function f and assign positives and negatives\n",
    "def assignment(points):\n",
    "    \"\"\"\n",
    "    Input: random points\n",
    "    Output: positive and negative labels, according to random linear function f that separates these points\n",
    "    \"\"\"\n",
    "    # Randomly select 2 2-D points and 1 direction\n",
    "    (x1, y1, x2, y2, direction) = uniform(-1,1,5)\n",
    "    # Calculate slope and intercept\n",
    "    m = (y2 - y1) / (x2 - x1)\n",
    "    b = y1 - m*x1\n",
    "    # Convert to a weight vector\n",
    "    w = [-b, -m * np.sign(direction), 1*np.sign(direction)]\n",
    "    #print 'Random function f:'\n",
    "    #print 'w = {}'.format(w)    \n",
    "    # Label points\n",
    "    labels = np.sign(np.dot(points, w))    \n",
    "\n",
    "    # Plot of positive and negative examples of random linear function f\n",
    "    #plt.figure(figsize = (12,12))\n",
    "    #plt.plot(points[labels == 1][:,1], points[labels == 1][:,2], 'bo')\n",
    "    #plt.plot(points[labels == -1][:,1], points[labels == -1][:,2], 'ro')\n",
    "    return (w, labels)\n",
    "    \n",
    "w, labels = assignment(points)"
   ]
  },
  {
   "cell_type": "code",
   "execution_count": 5,
   "metadata": {
    "collapsed": false
   },
   "outputs": [],
   "source": [
    "# Function to calculate probability of P(f != g):\n",
    "def probs(w, w_est):\n",
    "    \"\"\"\n",
    "    Input: actual weights and estimated weights\n",
    "    Output: probability in [-1,1]x[-1,1] that the classifications disagree\n",
    "    \"\"\"\n",
    "    # Create grid of points\n",
    "    x, y = np.linspace(-1, 1, 100), np.linspace(-1, 1, 100)\n",
    "    xv, yv = np.meshgrid(x, y)\n",
    "    grid = np.array(zip(xv.flatten(), yv.flatten()))\n",
    "    \n",
    "    # Calculate actual and predicted labels\n",
    "    actual_labels = np.sign(np.dot(points, w))\n",
    "    predicted_labels = np.sign(np.dot(points, w_est))\n",
    "\n",
    "    # Calculate probability of nonoverlap\n",
    "    return np.mean(actual_labels != predicted_labels)"
   ]
  },
  {
   "cell_type": "code",
   "execution_count": 6,
   "metadata": {
    "collapsed": false
   },
   "outputs": [
    {
     "data": {
      "text/plain": [
       "(6, 0.13)"
      ]
     },
     "execution_count": 6,
     "metadata": {},
     "output_type": "execute_result"
    }
   ],
   "source": [
    "# Run PLA till convergence\n",
    "def PLA(N):\n",
    "    \"\"\"\n",
    "    Input: number of random points generated\n",
    "    Output: number of iterations till convergence, and probaility of error\n",
    "    \"\"\"\n",
    "    \n",
    "    # Generate training examples and labels\n",
    "    points = generate_points(N)\n",
    "    w, labels = assignment(points)\n",
    "    # Initialize weights and iteration count\n",
    "    w_est = np.array([0, 0, 0])\n",
    "    iters = 0\n",
    "    accuracy = 0\n",
    "    \n",
    "    # Iterate to improve weights\n",
    "    while accuracy < 1:\n",
    "        # Make and evaluate predictions\n",
    "        preds = np.sign(np.dot(points, w_est))\n",
    "        wrong_points = points[preds != labels]\n",
    "        wrong_labels = labels[preds != labels]\n",
    "        \n",
    "        # Measure accuracy of current iteration\n",
    "        accuracy = np.mean(preds == labels)\n",
    "        \n",
    "        # Randomly pick one misclassified point and update weight\n",
    "        if accuracy < 1:\n",
    "            index = np.random.randint(wrong_points.shape[0])\n",
    "            w_est = w_est + wrong_labels[index] * wrong_points[index]        \n",
    "        iters += 1\n",
    "        \n",
    "    # Compare to function f\n",
    "    #print ('Estimated function g:')\n",
    "    #print ('w_actual = {}'.format(w))\n",
    "    #print ('w_est = {}'.format(w_est))\n",
    "    #print ('Number of iterations = {:.3f}'.format(iters))\n",
    "    # Calculate error\n",
    "    error = probs(w, w_est)\n",
    "    #print ('P(f!=g) = {:.3f}'.format(error))\n",
    "    return (iters, error)\n",
    "\n",
    "PLA(10)"
   ]
  },
  {
   "cell_type": "code",
   "execution_count": 9,
   "metadata": {
    "collapsed": false
   },
   "outputs": [
    {
     "data": {
      "text/plain": [
       "(11.805999999999999, 0.10832000000000003)"
      ]
     },
     "execution_count": 9,
     "metadata": {},
     "output_type": "execute_result"
    }
   ],
   "source": [
    "# Repeat experiment 1000 times\n",
    "def experiment(times, N):\n",
    "    iters_total = []\n",
    "    error_total = []\n",
    "    for run in range(times):\n",
    "        iters, error = PLA(N)\n",
    "        iters_total.append(iters)\n",
    "        error_total.append(error)\n",
    "    return np.mean(iters_total), np.mean(error_total)\n",
    "\n",
    "# N = 10\n",
    "experiment(1000, 10)"
   ]
  },
  {
   "cell_type": "code",
   "execution_count": 10,
   "metadata": {
    "collapsed": false
   },
   "outputs": [
    {
     "data": {
      "text/plain": [
       "(103.35899999999999, 0.01354)"
      ]
     },
     "execution_count": 10,
     "metadata": {},
     "output_type": "execute_result"
    }
   ],
   "source": [
    "# N = 100\n",
    "experiment(1000, 100)"
   ]
  }
 ],
 "metadata": {
  "kernelspec": {
   "display_name": "Python 2",
   "language": "python",
   "name": "python2"
  },
  "language_info": {
   "codemirror_mode": {
    "name": "ipython",
    "version": 2
   },
   "file_extension": ".py",
   "mimetype": "text/x-python",
   "name": "python",
   "nbconvert_exporter": "python",
   "pygments_lexer": "ipython2",
   "version": "2.7.10"
  }
 },
 "nbformat": 4,
 "nbformat_minor": 0
}
