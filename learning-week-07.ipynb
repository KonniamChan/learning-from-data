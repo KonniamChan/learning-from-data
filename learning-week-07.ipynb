{
 "cells": [
  {
   "cell_type": "markdown",
   "metadata": {},
   "source": [
    "## Learning from Data Week 7"
   ]
  },
  {
   "cell_type": "code",
   "execution_count": 81,
   "metadata": {
    "collapsed": false
   },
   "outputs": [],
   "source": [
    "from __future__ import division\n",
    "%matplotlib inline\n",
    "import pandas as pd\n",
    "import numpy as np\n",
    "import cvxopt\n",
    "import matplotlib.pyplot as plt\n",
    "import seaborn as sns\n",
    "np.random.seed(0)"
   ]
  },
  {
   "cell_type": "code",
   "execution_count": 2,
   "metadata": {
    "collapsed": true
   },
   "outputs": [],
   "source": [
    "train = pd.read_table(\"in.dta\", sep=\" +\", header=None, engine='python')\n",
    "train.columns = [\"x1\", \"x2\", \"y\"]\n",
    "test = pd.read_table(\"out.dta\", sep=\" +\", header=None, engine='python')\n",
    "test.columns = [\"x1\", \"x2\", \"y\"]"
   ]
  },
  {
   "cell_type": "code",
   "execution_count": 4,
   "metadata": {
    "collapsed": false
   },
   "outputs": [
    {
     "data": {
      "text/html": [
       "<div>\n",
       "<table border=\"1\" class=\"dataframe\">\n",
       "  <thead>\n",
       "    <tr style=\"text-align: right;\">\n",
       "      <th></th>\n",
       "      <th>x1</th>\n",
       "      <th>x2</th>\n",
       "      <th>y</th>\n",
       "    </tr>\n",
       "  </thead>\n",
       "  <tbody>\n",
       "    <tr>\n",
       "      <th>0</th>\n",
       "      <td>-0.779470</td>\n",
       "      <td>0.838221</td>\n",
       "      <td>1</td>\n",
       "    </tr>\n",
       "    <tr>\n",
       "      <th>1</th>\n",
       "      <td>0.155635</td>\n",
       "      <td>0.895377</td>\n",
       "      <td>1</td>\n",
       "    </tr>\n",
       "    <tr>\n",
       "      <th>2</th>\n",
       "      <td>-0.059908</td>\n",
       "      <td>-0.717780</td>\n",
       "      <td>1</td>\n",
       "    </tr>\n",
       "    <tr>\n",
       "      <th>3</th>\n",
       "      <td>0.207596</td>\n",
       "      <td>0.758933</td>\n",
       "      <td>1</td>\n",
       "    </tr>\n",
       "    <tr>\n",
       "      <th>4</th>\n",
       "      <td>-0.195983</td>\n",
       "      <td>-0.375487</td>\n",
       "      <td>-1</td>\n",
       "    </tr>\n",
       "  </tbody>\n",
       "</table>\n",
       "</div>"
      ],
      "text/plain": [
       "         x1        x2  y\n",
       "0 -0.779470  0.838221  1\n",
       "1  0.155635  0.895377  1\n",
       "2 -0.059908 -0.717780  1\n",
       "3  0.207596  0.758933  1\n",
       "4 -0.195983 -0.375487 -1"
      ]
     },
     "execution_count": 4,
     "metadata": {},
     "output_type": "execute_result"
    }
   ],
   "source": [
    "train.head()"
   ]
  },
  {
   "cell_type": "code",
   "execution_count": 5,
   "metadata": {
    "collapsed": true
   },
   "outputs": [],
   "source": [
    "for df in [train, test]:\n",
    "    df['one'] = 1\n",
    "    df['x1^2'] = df['x1']**2\n",
    "    df['x2^2'] = df['x2']**2\n",
    "    df['x1x2'] = df['x1']*df['x2']\n",
    "    df['|x1-x2|'] = np.abs(df['x1'] - df['x2'])\n",
    "    df['|x1+x2|'] = np.abs(df['x1'] + df['x2'])"
   ]
  },
  {
   "cell_type": "code",
   "execution_count": 6,
   "metadata": {
    "collapsed": true
   },
   "outputs": [],
   "source": [
    "train = train.reindex(columns = ['one', 'x1', 'x2', 'x1^2', 'x2^2', 'x1x2', '|x1-x2|', '|x1+x2|', 'y'])\n",
    "test = test.reindex(columns = ['one', 'x1', 'x2', 'x1^2', 'x2^2', 'x1x2', '|x1-x2|', '|x1+x2|', 'y'])"
   ]
  },
  {
   "cell_type": "code",
   "execution_count": 7,
   "metadata": {
    "collapsed": false
   },
   "outputs": [
    {
     "data": {
      "text/html": [
       "<div>\n",
       "<table border=\"1\" class=\"dataframe\">\n",
       "  <thead>\n",
       "    <tr style=\"text-align: right;\">\n",
       "      <th></th>\n",
       "      <th>one</th>\n",
       "      <th>x1</th>\n",
       "      <th>x2</th>\n",
       "      <th>x1^2</th>\n",
       "      <th>x2^2</th>\n",
       "      <th>x1x2</th>\n",
       "      <th>|x1-x2|</th>\n",
       "      <th>|x1+x2|</th>\n",
       "      <th>y</th>\n",
       "    </tr>\n",
       "  </thead>\n",
       "  <tbody>\n",
       "    <tr>\n",
       "      <th>0</th>\n",
       "      <td>1</td>\n",
       "      <td>-0.779470</td>\n",
       "      <td>0.838221</td>\n",
       "      <td>0.607574</td>\n",
       "      <td>0.702615</td>\n",
       "      <td>-0.653369</td>\n",
       "      <td>1.617692</td>\n",
       "      <td>0.058751</td>\n",
       "      <td>1</td>\n",
       "    </tr>\n",
       "    <tr>\n",
       "      <th>1</th>\n",
       "      <td>1</td>\n",
       "      <td>0.155635</td>\n",
       "      <td>0.895377</td>\n",
       "      <td>0.024222</td>\n",
       "      <td>0.801701</td>\n",
       "      <td>0.139352</td>\n",
       "      <td>0.739743</td>\n",
       "      <td>1.051012</td>\n",
       "      <td>1</td>\n",
       "    </tr>\n",
       "    <tr>\n",
       "      <th>2</th>\n",
       "      <td>1</td>\n",
       "      <td>-0.059908</td>\n",
       "      <td>-0.717780</td>\n",
       "      <td>0.003589</td>\n",
       "      <td>0.515208</td>\n",
       "      <td>0.043001</td>\n",
       "      <td>0.657872</td>\n",
       "      <td>0.777688</td>\n",
       "      <td>1</td>\n",
       "    </tr>\n",
       "    <tr>\n",
       "      <th>3</th>\n",
       "      <td>1</td>\n",
       "      <td>0.207596</td>\n",
       "      <td>0.758933</td>\n",
       "      <td>0.043096</td>\n",
       "      <td>0.575980</td>\n",
       "      <td>0.157552</td>\n",
       "      <td>0.551337</td>\n",
       "      <td>0.966530</td>\n",
       "      <td>1</td>\n",
       "    </tr>\n",
       "    <tr>\n",
       "      <th>4</th>\n",
       "      <td>1</td>\n",
       "      <td>-0.195983</td>\n",
       "      <td>-0.375487</td>\n",
       "      <td>0.038409</td>\n",
       "      <td>0.140991</td>\n",
       "      <td>0.073589</td>\n",
       "      <td>0.179504</td>\n",
       "      <td>0.571470</td>\n",
       "      <td>-1</td>\n",
       "    </tr>\n",
       "  </tbody>\n",
       "</table>\n",
       "</div>"
      ],
      "text/plain": [
       "   one        x1        x2      x1^2      x2^2      x1x2   |x1-x2|   |x1+x2|  \\\n",
       "0    1 -0.779470  0.838221  0.607574  0.702615 -0.653369  1.617692  0.058751   \n",
       "1    1  0.155635  0.895377  0.024222  0.801701  0.139352  0.739743  1.051012   \n",
       "2    1 -0.059908 -0.717780  0.003589  0.515208  0.043001  0.657872  0.777688   \n",
       "3    1  0.207596  0.758933  0.043096  0.575980  0.157552  0.551337  0.966530   \n",
       "4    1 -0.195983 -0.375487  0.038409  0.140991  0.073589  0.179504  0.571470   \n",
       "\n",
       "   y  \n",
       "0  1  \n",
       "1  1  \n",
       "2  1  \n",
       "3  1  \n",
       "4 -1  "
      ]
     },
     "execution_count": 7,
     "metadata": {},
     "output_type": "execute_result"
    }
   ],
   "source": [
    "train.head()"
   ]
  },
  {
   "cell_type": "markdown",
   "metadata": {},
   "source": [
    "### Problem 1"
   ]
  },
  {
   "cell_type": "code",
   "execution_count": 30,
   "metadata": {
    "collapsed": false
   },
   "outputs": [
    {
     "name": "stdout",
     "output_type": "stream",
     "text": [
      "[(3, 0.29999999999999999), (4, 0.5), (5, 0.20000000000000001), (6, 0.0), (7, 0.10000000000000001)]\n",
      "Best k: 6\n"
     ]
    }
   ],
   "source": [
    "def LR_validation(train_set, val_set):\n",
    "    ks = range(3,8)\n",
    "    errors = []\n",
    "    for k in ks:\n",
    "        # Calculate weights\n",
    "        w = np.dot(np.linalg.pinv(train_set.ix[:, :k+1]), train_set['y'])\n",
    "        # Predict and evaluate on validation set\n",
    "        y_est = np.sign(np.dot(val_set.ix[:, :k+1], w))\n",
    "        error = np.mean(y_est != val_set['y'])\n",
    "        errors.append(error)\n",
    "    best_k = ks[np.argmin(errors)]\n",
    "    print zip(ks, errors)\n",
    "    print \"Best k: {}\".format(best_k)\n",
    "\n",
    "LR_validation(train[:25], train[25:])"
   ]
  },
  {
   "cell_type": "markdown",
   "metadata": {},
   "source": [
    "k = 6 (6 parameters) performed the best."
   ]
  },
  {
   "cell_type": "markdown",
   "metadata": {},
   "source": [
    "### Problem 2"
   ]
  },
  {
   "cell_type": "code",
   "execution_count": 32,
   "metadata": {
    "collapsed": false
   },
   "outputs": [
    {
     "name": "stdout",
     "output_type": "stream",
     "text": [
      "[(3, 0.41999999999999998), (4, 0.41599999999999998), (5, 0.188), (6, 0.084000000000000005), (7, 0.071999999999999995)]\n",
      "Best k: 7\n"
     ]
    }
   ],
   "source": [
    "# Evaluate on TEST set\n",
    "LR_validation(train[:25], test)"
   ]
  },
  {
   "cell_type": "markdown",
   "metadata": {},
   "source": [
    "### Problem 3"
   ]
  },
  {
   "cell_type": "code",
   "execution_count": 34,
   "metadata": {
    "collapsed": false
   },
   "outputs": [
    {
     "name": "stdout",
     "output_type": "stream",
     "text": [
      "[(3, 0.28000000000000003), (4, 0.35999999999999999), (5, 0.20000000000000001), (6, 0.080000000000000002), (7, 0.12)]\n",
      "Best k: 6\n"
     ]
    }
   ],
   "source": [
    "# Reverse train/validation order\n",
    "LR_validation(train[25:], train[:25])"
   ]
  },
  {
   "cell_type": "markdown",
   "metadata": {},
   "source": [
    "### Problem 4"
   ]
  },
  {
   "cell_type": "code",
   "execution_count": 36,
   "metadata": {
    "collapsed": false
   },
   "outputs": [
    {
     "name": "stdout",
     "output_type": "stream",
     "text": [
      "[(3, 0.39600000000000002), (4, 0.38800000000000001), (5, 0.28399999999999997), (6, 0.192), (7, 0.19600000000000001)]\n",
      "Best k: 6\n"
     ]
    }
   ],
   "source": [
    "# Reverse train/validation order and evaluate on TEST set\n",
    "LR_validation(train[25:], test)"
   ]
  },
  {
   "cell_type": "markdown",
   "metadata": {},
   "source": [
    "### Problem 6"
   ]
  },
  {
   "cell_type": "code",
   "execution_count": 50,
   "metadata": {
    "collapsed": false
   },
   "outputs": [
    {
     "name": "stdout",
     "output_type": "stream",
     "text": [
      "(0.50210042420517842, 0.49932306134428783, 0.33392841354727337)\n"
     ]
    },
    {
     "data": {
      "image/png": "[encoded data removed]",
      "text/plain": [
       "<matplotlib.figure.Figure at 0x104024410>"
      ]
     },
     "metadata": {},
     "output_type": "display_data"
    }
   ],
   "source": [
    "# Validation bias\n",
    "def validation_bias():\n",
    "    e_1, e_2 = np.random.uniform(size=100000), np.random.uniform(size=100000)\n",
    "    e_min = np.minimum(e_1, e_2)\n",
    "    print (np.mean(e_1), np.mean(e_2), np.mean(e_min))\n",
    "    \n",
    "    # Plot figures\n",
    "    plt.figure(figsize=(15,24))\n",
    "    for i, v in enumerate([e_1, e_2, e_min]):\n",
    "        plt.subplot(3, 1, i+1)\n",
    "        sns.distplot(v, kde=False)\n",
    "        \n",
    "validation_bias()"
   ]
  },
  {
   "cell_type": "markdown",
   "metadata": {},
   "source": [
    "### Problem 8: PLA & SVM"
   ]
  },
  {
   "cell_type": "code",
   "execution_count": 104,
   "metadata": {
    "collapsed": false
   },
   "outputs": [
    {
     "data": {
      "text/plain": [
       "array([[ 1.        ,  0.76456734,  0.77811991],\n",
       "       [ 1.        ,  0.46657827,  0.47455716],\n",
       "       [ 1.        , -0.18054759, -0.98969407],\n",
       "       [ 1.        , -0.25297797,  0.3883157 ],\n",
       "       [ 1.        ,  0.03127669,  0.83901481]])"
      ]
     },
     "execution_count": 104,
     "metadata": {},
     "output_type": "execute_result"
    }
   ],
   "source": [
    "def generate_points(N):\n",
    "    \"\"\"Generate random points on the interval [-1,1] x [-1,1].\"\"\"\n",
    "    xs = np.random.uniform(-1,1,N)\n",
    "    ys = np.random.uniform(-1,1,N)\n",
    "    # Generate vector of ones in the 0th column\n",
    "    return np.column_stack((np.ones(N), xs, ys))\n",
    "\n",
    "generate_points(5)"
   ]
  },
  {
   "cell_type": "code",
   "execution_count": 176,
   "metadata": {
    "collapsed": true
   },
   "outputs": [],
   "source": [
    "def assignment(points):\n",
    "    \"\"\"Create target function f and assign labels to points.\"\"\"\n",
    "    # Generate f until all points have different labels\n",
    "    while True:\n",
    "        # Randomly select 2 2-D points and 1 direction\n",
    "        (x1, y1, x2, y2, direction) = np.random.uniform(-1,1,5)\n",
    "        # Calculate weight vector and assign labels\n",
    "        m = (y2 - y1) / (x2 - x1)\n",
    "        b = y1 - m*x1\n",
    "        w = [b, m * np.sign(direction), -1*np.sign(direction)]\n",
    "        labels = np.sign(np.dot(points, w))\n",
    "        # Re-do points if all labels are equal\n",
    "        if abs(sum(labels)) != len(points): break\n",
    "    return (w, labels)"
   ]
  },
  {
   "cell_type": "code",
   "execution_count": 180,
   "metadata": {
    "collapsed": false
   },
   "outputs": [
    {
     "data": {
      "image/png": "[encoded data removed]",
      "text/plain": [
       "<matplotlib.figure.Figure at 0x109d628d0>"
      ]
     },
     "metadata": {},
     "output_type": "display_data"
    }
   ],
   "source": [
    "def show_labels(points, labels):\n",
    "    # Plot of points with labels\n",
    "    plt.figure(figsize = (8,8))\n",
    "    plt.plot(points[labels == 1][:,1], points[labels == 1][:,2], 'bo')\n",
    "    plt.plot(points[labels == -1][:,1], points[labels == -1][:,2], 'ro')\n",
    "\n",
    "# Pick random points and produce plot\n",
    "random_points = generate_points(100)\n",
    "_ , random_labels = assignment(random_points)\n",
    "show_labels(random_points, random_labels)"
   ]
  },
  {
   "cell_type": "code",
   "execution_count": 65,
   "metadata": {
    "collapsed": false
   },
   "outputs": [],
   "source": [
    "def probs(w, w_est):\n",
    "    \"\"\"Calculate out of sample error given the target f and hypothesis g.\"\"\"\n",
    "    # Create grid of points\n",
    "    NUM_POINTS = 100\n",
    "    x, y = np.linspace(-1, 1, NUM_POINTS), np.linspace(-1, 1, NUM_POINTS)\n",
    "    xv, yv = np.meshgrid(x, y)\n",
    "    grid = np.column_stack((np.ones(NUM_POINTS**2), xv.flatten(), yv.flatten()))\n",
    "    # Calculate actual and predicted labels\n",
    "    actual_labels = np.sign(np.dot(grid, w))\n",
    "    predicted_labels = np.sign(np.dot(grid, w_est))\n",
    "    # Calculate probability of nonoverlap\n",
    "    return np.mean(actual_labels != predicted_labels)"
   ]
  },
  {
   "cell_type": "code",
   "execution_count": 63,
   "metadata": {
    "collapsed": false
   },
   "outputs": [],
   "source": [
    "def PLA(points, labels):\n",
    "    \"\"\"Run PLA on input training data and return weights\"\"\"\n",
    "    # Initialize weights and accuracy\n",
    "    w_est = np.array([0, 0, 0])\n",
    "    accuracy = 0\n",
    "    \n",
    "    # Iterate to improve weights\n",
    "    while accuracy < 1:\n",
    "        # Make and evaluate predictions\n",
    "        preds = np.sign(np.dot(points, w_est))\n",
    "        misclassified = preds != labels\n",
    "        misclassified_points = points[misclassified]\n",
    "        misclassified_labels = labels[misclassified]\n",
    "        \n",
    "        # Measure accuracy of current iteration\n",
    "        accuracy = np.mean(~misclassified)\n",
    "        \n",
    "        # Randomly pick one misclassified point and update weight\n",
    "        if accuracy < 1:\n",
    "            random_point = np.random.randint(misclassified_points.shape[0])\n",
    "            w_est = w_est + misclassified_labels[random_point] * misclassified_points[random_point]\n",
    "    return w_est"
   ]
  },
  {
   "cell_type": "code",
   "execution_count": 140,
   "metadata": {
    "collapsed": true
   },
   "outputs": [],
   "source": [
    "# Suppress QP printing\n",
    "cvxopt.solvers.options['show_progress'] = False"
   ]
  },
  {
   "cell_type": "code",
   "execution_count": 143,
   "metadata": {
    "collapsed": true
   },
   "outputs": [],
   "source": [
    "def SVM(points, labels):\n",
    "    # Remove column of ones\n",
    "    points = points[:, 1:]\n",
    "    # Calculate quadratic coefficients\n",
    "    N = len(labels)\n",
    "    yi_xi = labels[:, None] * points\n",
    "    coefs_quadratic = np.dot(yi_xi, yi_xi.T)\n",
    "    coefs_linear = np.array([-1.0] * N)\n",
    "    # Quadratic programming using CVXOPT\n",
    "    P = cvxopt.matrix(coefs_quadratic, tc=\"d\")\n",
    "    q = cvxopt.matrix(coefs_linear, tc=\"d\")\n",
    "    G = cvxopt.matrix(-np.eye(N), tc=\"d\")\n",
    "    h = cvxopt.matrix(np.zeros(N), tc=\"d\")\n",
    "    A = cvxopt.matrix(labels, (1,N), tc=\"d\")\n",
    "    b = cvxopt.matrix(0.0)\n",
    "    solution = cvxopt.solvers.qp(P, q, G, h, A, b)\n",
    "    # Calculate weights\n",
    "    solution_x = np.ravel(solution['x'])\n",
    "    w_est = np.dot(solution_x, labels[:, None] * points)\n",
    "    # Calculate threshold(b) using the first support vector (could use any)\n",
    "    support_vectors = np.where(solution_x >= 0.0001)[0]    \n",
    "    b = 1/labels[support_vectors[0]] - np.dot(w_est, points[support_vectors[0]])\n",
    "    return w_est, b, support_vectors"
   ]
  },
  {
   "cell_type": "code",
   "execution_count": 188,
   "metadata": {
    "collapsed": false
   },
   "outputs": [
    {
     "data": {
      "image/png": "[encoded data removed]",
      "text/plain": [
       "<matplotlib.figure.Figure at 0x109719850>"
      ]
     },
     "metadata": {},
     "output_type": "display_data"
    }
   ],
   "source": [
    "def SVM_plot():\n",
    "    points = generate_points(100)\n",
    "    w, labels = assignment(points)\n",
    "    w_est, b, support_vectors = SVM(points, labels)\n",
    "    # Show labels\n",
    "    show_labels(points, labels)\n",
    "    # Draw SVM line\n",
    "    x = np.linspace(-1, 1, 10)\n",
    "    y = -(w_est[0]*x + b)/w_est[1]\n",
    "    plt.plot(x, y, 'g-')\n",
    "    # Highlight support vectors\n",
    "    plt.scatter(points[support_vectors][:,1], points[support_vectors][:,2], \n",
    "                s=200, facecolors='none', edgecolors='black')\n",
    "    plt.axis([-1, 1, -1, 1])\n",
    "    \n",
    "SVM_plot()"
   ]
  },
  {
   "cell_type": "code",
   "execution_count": 182,
   "metadata": {
    "collapsed": false
   },
   "outputs": [
    {
     "name": "stdout",
     "output_type": "stream",
     "text": [
      "SVM is better than PLA in % of runs: 0.608\n",
      "The average number of support vectors: 3\n"
     ]
    }
   ],
   "source": [
    "def problem_8(N, RUNS):\n",
    "    SVM_over_PLA = []\n",
    "    for run in range(RUNS):\n",
    "        points = generate_points(N)\n",
    "        w, labels = assignment(points)\n",
    "        # PLA\n",
    "        w_est_PLA = PLA(points, labels)\n",
    "        total_probs_PLA = probs(w, w_est_PLA)\n",
    "        # SVM\n",
    "        w_est_SVM, b, support_vectors = SVM(points, labels)\n",
    "        total_probs_SVM = probs(w, np.concatenate((np.array([b]), w_est_SVM)))\n",
    "        # Compare PLA and SVM\n",
    "        SVM_over_PLA.append(total_probs_SVM < total_probs_PLA)\n",
    "    print (\"SVM is better than PLA in % of runs: {}\".format(np.mean(SVM_over_PLA)))\n",
    "    print (\"The average number of support vectors: {}\".format(len(support_vectors)))\n",
    "    \n",
    "problem_8(10, 1000)"
   ]
  },
  {
   "cell_type": "code",
   "execution_count": 183,
   "metadata": {
    "collapsed": false
   },
   "outputs": [
    {
     "name": "stdout",
     "output_type": "stream",
     "text": [
      "SVM is better than PLA in % of runs: 0.628\n",
      "The average number of support vectors: 3\n"
     ]
    }
   ],
   "source": [
    "problem_8(100, 1000)"
   ]
  }
 ],
 "metadata": {
  "kernelspec": {
   "display_name": "Python 2",
   "language": "python",
   "name": "python2"
  },
  "language_info": {
   "codemirror_mode": {
    "name": "ipython",
    "version": 2
   },
   "file_extension": ".py",
   "mimetype": "text/x-python",
   "name": "python",
   "nbconvert_exporter": "python",
   "pygments_lexer": "ipython2",
   "version": "2.7.11"
  }
 },
 "nbformat": 4,
 "nbformat_minor": 0
}
