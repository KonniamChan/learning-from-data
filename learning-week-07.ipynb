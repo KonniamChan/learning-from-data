{
 "cells": [
  {
   "cell_type": "markdown",
   "metadata": {},
   "source": [
    "## Learning from Data Week 7"
   ]
  },
  {
   "cell_type": "code",
   "execution_count": 45,
   "metadata": {
    "collapsed": true
   },
   "outputs": [],
   "source": [
    "from __future__ import division\n",
    "%matplotlib inline\n",
    "import pandas as pd\n",
    "import numpy as np\n",
    "import matplotlib.pyplot as plt\n",
    "import seaborn as sns\n",
    "np.random.seed(0)"
   ]
  },
  {
   "cell_type": "code",
   "execution_count": 2,
   "metadata": {
    "collapsed": true
   },
   "outputs": [],
   "source": [
    "train = pd.read_table(\"in.dta\", sep=\" +\", header=None, engine='python')\n",
    "train.columns = [\"x1\", \"x2\", \"y\"]\n",
    "test = pd.read_table(\"out.dta\", sep=\" +\", header=None, engine='python')\n",
    "test.columns = [\"x1\", \"x2\", \"y\"]"
   ]
  },
  {
   "cell_type": "code",
   "execution_count": 4,
   "metadata": {
    "collapsed": false
   },
   "outputs": [
    {
     "data": {
      "text/html": [
       "<div>\n",
       "<table border=\"1\" class=\"dataframe\">\n",
       "  <thead>\n",
       "    <tr style=\"text-align: right;\">\n",
       "      <th></th>\n",
       "      <th>x1</th>\n",
       "      <th>x2</th>\n",
       "      <th>y</th>\n",
       "    </tr>\n",
       "  </thead>\n",
       "  <tbody>\n",
       "    <tr>\n",
       "      <th>0</th>\n",
       "      <td>-0.779470</td>\n",
       "      <td>0.838221</td>\n",
       "      <td>1</td>\n",
       "    </tr>\n",
       "    <tr>\n",
       "      <th>1</th>\n",
       "      <td>0.155635</td>\n",
       "      <td>0.895377</td>\n",
       "      <td>1</td>\n",
       "    </tr>\n",
       "    <tr>\n",
       "      <th>2</th>\n",
       "      <td>-0.059908</td>\n",
       "      <td>-0.717780</td>\n",
       "      <td>1</td>\n",
       "    </tr>\n",
       "    <tr>\n",
       "      <th>3</th>\n",
       "      <td>0.207596</td>\n",
       "      <td>0.758933</td>\n",
       "      <td>1</td>\n",
       "    </tr>\n",
       "    <tr>\n",
       "      <th>4</th>\n",
       "      <td>-0.195983</td>\n",
       "      <td>-0.375487</td>\n",
       "      <td>-1</td>\n",
       "    </tr>\n",
       "  </tbody>\n",
       "</table>\n",
       "</div>"
      ],
      "text/plain": [
       "         x1        x2  y\n",
       "0 -0.779470  0.838221  1\n",
       "1  0.155635  0.895377  1\n",
       "2 -0.059908 -0.717780  1\n",
       "3  0.207596  0.758933  1\n",
       "4 -0.195983 -0.375487 -1"
      ]
     },
     "execution_count": 4,
     "metadata": {},
     "output_type": "execute_result"
    }
   ],
   "source": [
    "train.head()"
   ]
  },
  {
   "cell_type": "code",
   "execution_count": 5,
   "metadata": {
    "collapsed": true
   },
   "outputs": [],
   "source": [
    "for df in [train, test]:\n",
    "    df['one'] = 1\n",
    "    df['x1^2'] = df['x1']**2\n",
    "    df['x2^2'] = df['x2']**2\n",
    "    df['x1x2'] = df['x1']*df['x2']\n",
    "    df['|x1-x2|'] = np.abs(df['x1'] - df['x2'])\n",
    "    df['|x1+x2|'] = np.abs(df['x1'] + df['x2'])"
   ]
  },
  {
   "cell_type": "code",
   "execution_count": 6,
   "metadata": {
    "collapsed": true
   },
   "outputs": [],
   "source": [
    "train = train.reindex(columns = ['one', 'x1', 'x2', 'x1^2', 'x2^2', 'x1x2', '|x1-x2|', '|x1+x2|', 'y'])\n",
    "test = test.reindex(columns = ['one', 'x1', 'x2', 'x1^2', 'x2^2', 'x1x2', '|x1-x2|', '|x1+x2|', 'y'])"
   ]
  },
  {
   "cell_type": "code",
   "execution_count": 7,
   "metadata": {
    "collapsed": false
   },
   "outputs": [
    {
     "data": {
      "text/html": [
       "<div>\n",
       "<table border=\"1\" class=\"dataframe\">\n",
       "  <thead>\n",
       "    <tr style=\"text-align: right;\">\n",
       "      <th></th>\n",
       "      <th>one</th>\n",
       "      <th>x1</th>\n",
       "      <th>x2</th>\n",
       "      <th>x1^2</th>\n",
       "      <th>x2^2</th>\n",
       "      <th>x1x2</th>\n",
       "      <th>|x1-x2|</th>\n",
       "      <th>|x1+x2|</th>\n",
       "      <th>y</th>\n",
       "    </tr>\n",
       "  </thead>\n",
       "  <tbody>\n",
       "    <tr>\n",
       "      <th>0</th>\n",
       "      <td>1</td>\n",
       "      <td>-0.779470</td>\n",
       "      <td>0.838221</td>\n",
       "      <td>0.607574</td>\n",
       "      <td>0.702615</td>\n",
       "      <td>-0.653369</td>\n",
       "      <td>1.617692</td>\n",
       "      <td>0.058751</td>\n",
       "      <td>1</td>\n",
       "    </tr>\n",
       "    <tr>\n",
       "      <th>1</th>\n",
       "      <td>1</td>\n",
       "      <td>0.155635</td>\n",
       "      <td>0.895377</td>\n",
       "      <td>0.024222</td>\n",
       "      <td>0.801701</td>\n",
       "      <td>0.139352</td>\n",
       "      <td>0.739743</td>\n",
       "      <td>1.051012</td>\n",
       "      <td>1</td>\n",
       "    </tr>\n",
       "    <tr>\n",
       "      <th>2</th>\n",
       "      <td>1</td>\n",
       "      <td>-0.059908</td>\n",
       "      <td>-0.717780</td>\n",
       "      <td>0.003589</td>\n",
       "      <td>0.515208</td>\n",
       "      <td>0.043001</td>\n",
       "      <td>0.657872</td>\n",
       "      <td>0.777688</td>\n",
       "      <td>1</td>\n",
       "    </tr>\n",
       "    <tr>\n",
       "      <th>3</th>\n",
       "      <td>1</td>\n",
       "      <td>0.207596</td>\n",
       "      <td>0.758933</td>\n",
       "      <td>0.043096</td>\n",
       "      <td>0.575980</td>\n",
       "      <td>0.157552</td>\n",
       "      <td>0.551337</td>\n",
       "      <td>0.966530</td>\n",
       "      <td>1</td>\n",
       "    </tr>\n",
       "    <tr>\n",
       "      <th>4</th>\n",
       "      <td>1</td>\n",
       "      <td>-0.195983</td>\n",
       "      <td>-0.375487</td>\n",
       "      <td>0.038409</td>\n",
       "      <td>0.140991</td>\n",
       "      <td>0.073589</td>\n",
       "      <td>0.179504</td>\n",
       "      <td>0.571470</td>\n",
       "      <td>-1</td>\n",
       "    </tr>\n",
       "  </tbody>\n",
       "</table>\n",
       "</div>"
      ],
      "text/plain": [
       "   one        x1        x2      x1^2      x2^2      x1x2   |x1-x2|   |x1+x2|  \\\n",
       "0    1 -0.779470  0.838221  0.607574  0.702615 -0.653369  1.617692  0.058751   \n",
       "1    1  0.155635  0.895377  0.024222  0.801701  0.139352  0.739743  1.051012   \n",
       "2    1 -0.059908 -0.717780  0.003589  0.515208  0.043001  0.657872  0.777688   \n",
       "3    1  0.207596  0.758933  0.043096  0.575980  0.157552  0.551337  0.966530   \n",
       "4    1 -0.195983 -0.375487  0.038409  0.140991  0.073589  0.179504  0.571470   \n",
       "\n",
       "   y  \n",
       "0  1  \n",
       "1  1  \n",
       "2  1  \n",
       "3  1  \n",
       "4 -1  "
      ]
     },
     "execution_count": 7,
     "metadata": {},
     "output_type": "execute_result"
    }
   ],
   "source": [
    "train.head()"
   ]
  },
  {
   "cell_type": "markdown",
   "metadata": {},
   "source": [
    "### Problem 1"
   ]
  },
  {
   "cell_type": "code",
   "execution_count": 30,
   "metadata": {
    "collapsed": false
   },
   "outputs": [
    {
     "name": "stdout",
     "output_type": "stream",
     "text": [
      "[(3, 0.29999999999999999), (4, 0.5), (5, 0.20000000000000001), (6, 0.0), (7, 0.10000000000000001)]\n",
      "Best k: 6\n"
     ]
    }
   ],
   "source": [
    "def LR_validation(train_set, val_set):\n",
    "    ks = range(3,8)\n",
    "    errors = []\n",
    "    for k in ks:\n",
    "        # Calculate weights\n",
    "        w = np.dot(np.linalg.pinv(train_set.ix[:, :k+1]), train_set['y'])\n",
    "        # Predict and evaluate on validation set\n",
    "        y_est = np.sign(np.dot(val_set.ix[:, :k+1], w))\n",
    "        error = np.mean(y_est != val_set['y'])\n",
    "        errors.append(error)\n",
    "    best_k = ks[np.argmin(errors)]\n",
    "    print zip(ks, errors)\n",
    "    print \"Best k: {}\".format(best_k)\n",
    "\n",
    "LR_validation(train[:25], train[25:])"
   ]
  },
  {
   "cell_type": "markdown",
   "metadata": {},
   "source": [
    "k = 6 (6 parameters) performed the best."
   ]
  },
  {
   "cell_type": "markdown",
   "metadata": {},
   "source": [
    "### Problem 2"
   ]
  },
  {
   "cell_type": "code",
   "execution_count": 32,
   "metadata": {
    "collapsed": false
   },
   "outputs": [
    {
     "name": "stdout",
     "output_type": "stream",
     "text": [
      "[(3, 0.41999999999999998), (4, 0.41599999999999998), (5, 0.188), (6, 0.084000000000000005), (7, 0.071999999999999995)]\n",
      "Best k: 7\n"
     ]
    }
   ],
   "source": [
    "# Evaluate on TEST set\n",
    "LR_validation(train[:25], test)"
   ]
  },
  {
   "cell_type": "markdown",
   "metadata": {},
   "source": [
    "### Problem 3"
   ]
  },
  {
   "cell_type": "code",
   "execution_count": 34,
   "metadata": {
    "collapsed": false
   },
   "outputs": [
    {
     "name": "stdout",
     "output_type": "stream",
     "text": [
      "[(3, 0.28000000000000003), (4, 0.35999999999999999), (5, 0.20000000000000001), (6, 0.080000000000000002), (7, 0.12)]\n",
      "Best k: 6\n"
     ]
    }
   ],
   "source": [
    "# Reverse train/validation order\n",
    "LR_validation(train[25:], train[:25])"
   ]
  },
  {
   "cell_type": "markdown",
   "metadata": {},
   "source": [
    "### Problem 4"
   ]
  },
  {
   "cell_type": "code",
   "execution_count": 36,
   "metadata": {
    "collapsed": false
   },
   "outputs": [
    {
     "name": "stdout",
     "output_type": "stream",
     "text": [
      "[(3, 0.39600000000000002), (4, 0.38800000000000001), (5, 0.28399999999999997), (6, 0.192), (7, 0.19600000000000001)]\n",
      "Best k: 6\n"
     ]
    }
   ],
   "source": [
    "# Reverse train/validation order and evaluate on TEST set\n",
    "LR_validation(train[25:], test)"
   ]
  },
  {
   "cell_type": "markdown",
   "metadata": {},
   "source": [
    "### Problem 6"
   ]
  },
  {
   "cell_type": "code",
   "execution_count": 50,
   "metadata": {
    "collapsed": false
   },
   "outputs": [
    {
     "name": "stdout",
     "output_type": "stream",
     "text": [
      "(0.50210042420517842, 0.49932306134428783, 0.33392841354727337)\n"
     ]
    },
    {
     "data": {
      "image/png": "[encoded data removed]",
      "text/plain": [
       "<matplotlib.figure.Figure at 0x104024410>"
      ]
     },
     "metadata": {},
     "output_type": "display_data"
    }
   ],
   "source": [
    "# Validation bias\n",
    "def validation_bias():\n",
    "    e_1, e_2 = np.random.uniform(size=100000), np.random.uniform(size=100000)\n",
    "    e_min = np.minimum(e_1, e_2)\n",
    "    print (np.mean(e_1), np.mean(e_2), np.mean(e_min))\n",
    "    \n",
    "    # Plot figures\n",
    "    plt.figure(figsize=(15,24))\n",
    "    for i, v in enumerate([e_1, e_2, e_min]):\n",
    "        plt.subplot(3, 1, i+1)\n",
    "        sns.distplot(v, kde=False)\n",
    "        \n",
    "validation_bias()"
   ]
  }
 ],
 "metadata": {
  "kernelspec": {
   "display_name": "Python 2",
   "language": "python",
   "name": "python2"
  },
  "language_info": {
   "codemirror_mode": {
    "name": "ipython",
    "version": 2
   },
   "file_extension": ".py",
   "mimetype": "text/x-python",
   "name": "python",
   "nbconvert_exporter": "python",
   "pygments_lexer": "ipython2",
   "version": "2.7.11"
  }
 },
 "nbformat": 4,
 "nbformat_minor": 0
}
