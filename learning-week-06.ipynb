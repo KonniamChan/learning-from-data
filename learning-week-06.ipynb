{
 "cells": [
  {
   "cell_type": "markdown",
   "metadata": {},
   "source": [
    "## Learning from Data Week 6"
   ]
  },
  {
   "cell_type": "markdown",
   "metadata": {},
   "source": [
    "### Regularization with Weight Decay"
   ]
  },
  {
   "cell_type": "code",
   "execution_count": 2,
   "metadata": {
    "collapsed": true
   },
   "outputs": [],
   "source": [
    "from __future__ import division\n",
    "%matplotlib inline\n",
    "import pandas as pd\n",
    "import numpy as np"
   ]
  },
  {
   "cell_type": "code",
   "execution_count": 134,
   "metadata": {
    "collapsed": false
   },
   "outputs": [],
   "source": [
    "train = pd.read_table(\"in.dta\", sep=\" +\", header=None, engine='python')\n",
    "train.columns = [\"x1\", \"x2\", \"y\"]\n",
    "test = pd.read_table(\"out.dta\", sep=\" +\", header=None, engine='python')\n",
    "test.columns = [\"x1\", \"x2\", \"y\"]"
   ]
  },
  {
   "cell_type": "code",
   "execution_count": 49,
   "metadata": {
    "collapsed": false
   },
   "outputs": [
    {
     "data": {
      "text/html": [
       "<div>\n",
       "<table border=\"1\" class=\"dataframe\">\n",
       "  <thead>\n",
       "    <tr style=\"text-align: right;\">\n",
       "      <th></th>\n",
       "      <th>x1</th>\n",
       "      <th>x2</th>\n",
       "      <th>y</th>\n",
       "    </tr>\n",
       "  </thead>\n",
       "  <tbody>\n",
       "    <tr>\n",
       "      <th>0</th>\n",
       "      <td>-0.779470</td>\n",
       "      <td>0.838221</td>\n",
       "      <td>1</td>\n",
       "    </tr>\n",
       "    <tr>\n",
       "      <th>1</th>\n",
       "      <td>0.155635</td>\n",
       "      <td>0.895377</td>\n",
       "      <td>1</td>\n",
       "    </tr>\n",
       "    <tr>\n",
       "      <th>2</th>\n",
       "      <td>-0.059908</td>\n",
       "      <td>-0.717780</td>\n",
       "      <td>1</td>\n",
       "    </tr>\n",
       "    <tr>\n",
       "      <th>3</th>\n",
       "      <td>0.207596</td>\n",
       "      <td>0.758933</td>\n",
       "      <td>1</td>\n",
       "    </tr>\n",
       "    <tr>\n",
       "      <th>4</th>\n",
       "      <td>-0.195983</td>\n",
       "      <td>-0.375487</td>\n",
       "      <td>-1</td>\n",
       "    </tr>\n",
       "  </tbody>\n",
       "</table>\n",
       "</div>"
      ],
      "text/plain": [
       "         x1        x2  y\n",
       "0 -0.779470  0.838221  1\n",
       "1  0.155635  0.895377  1\n",
       "2 -0.059908 -0.717780  1\n",
       "3  0.207596  0.758933  1\n",
       "4 -0.195983 -0.375487 -1"
      ]
     },
     "execution_count": 49,
     "metadata": {},
     "output_type": "execute_result"
    }
   ],
   "source": [
    "train.head()"
   ]
  },
  {
   "cell_type": "code",
   "execution_count": 135,
   "metadata": {
    "collapsed": false
   },
   "outputs": [],
   "source": [
    "for df in [train, test]:\n",
    "    df['one'] = 1\n",
    "    df['x1^2'] = df['x1']**2\n",
    "    df['x2^2'] = df['x2']**2\n",
    "    df['x1x2'] = df['x1']*df['x2']\n",
    "    df['|x1-x2|'] = np.abs(df['x1'] - df['x2'])\n",
    "    df['|x1+x2|'] = np.abs(df['x1'] + df['x2'])"
   ]
  },
  {
   "cell_type": "code",
   "execution_count": 136,
   "metadata": {
    "collapsed": false
   },
   "outputs": [],
   "source": [
    "train = train.reindex(columns = ['one', 'x1', 'x2', 'x1^2', 'x2^2', 'x1x2', '|x1-x2|', '|x1+x2|', 'y'])\n",
    "test = test.reindex(columns = ['one', 'x1', 'x2', 'x1^2', 'x2^2', 'x1x2', '|x1-x2|', '|x1+x2|', 'y'])"
   ]
  },
  {
   "cell_type": "code",
   "execution_count": 137,
   "metadata": {
    "collapsed": false
   },
   "outputs": [
    {
     "data": {
      "text/html": [
       "<div>\n",
       "<table border=\"1\" class=\"dataframe\">\n",
       "  <thead>\n",
       "    <tr style=\"text-align: right;\">\n",
       "      <th></th>\n",
       "      <th>one</th>\n",
       "      <th>x1</th>\n",
       "      <th>x2</th>\n",
       "      <th>x1^2</th>\n",
       "      <th>x2^2</th>\n",
       "      <th>x1x2</th>\n",
       "      <th>|x1-x2|</th>\n",
       "      <th>|x1+x2|</th>\n",
       "      <th>y</th>\n",
       "    </tr>\n",
       "  </thead>\n",
       "  <tbody>\n",
       "    <tr>\n",
       "      <th>0</th>\n",
       "      <td>1</td>\n",
       "      <td>-0.779470</td>\n",
       "      <td>0.838221</td>\n",
       "      <td>0.607574</td>\n",
       "      <td>0.702615</td>\n",
       "      <td>-0.653369</td>\n",
       "      <td>1.617692</td>\n",
       "      <td>0.058751</td>\n",
       "      <td>1</td>\n",
       "    </tr>\n",
       "    <tr>\n",
       "      <th>1</th>\n",
       "      <td>1</td>\n",
       "      <td>0.155635</td>\n",
       "      <td>0.895377</td>\n",
       "      <td>0.024222</td>\n",
       "      <td>0.801701</td>\n",
       "      <td>0.139352</td>\n",
       "      <td>0.739743</td>\n",
       "      <td>1.051012</td>\n",
       "      <td>1</td>\n",
       "    </tr>\n",
       "    <tr>\n",
       "      <th>2</th>\n",
       "      <td>1</td>\n",
       "      <td>-0.059908</td>\n",
       "      <td>-0.717780</td>\n",
       "      <td>0.003589</td>\n",
       "      <td>0.515208</td>\n",
       "      <td>0.043001</td>\n",
       "      <td>0.657872</td>\n",
       "      <td>0.777688</td>\n",
       "      <td>1</td>\n",
       "    </tr>\n",
       "    <tr>\n",
       "      <th>3</th>\n",
       "      <td>1</td>\n",
       "      <td>0.207596</td>\n",
       "      <td>0.758933</td>\n",
       "      <td>0.043096</td>\n",
       "      <td>0.575980</td>\n",
       "      <td>0.157552</td>\n",
       "      <td>0.551337</td>\n",
       "      <td>0.966530</td>\n",
       "      <td>1</td>\n",
       "    </tr>\n",
       "    <tr>\n",
       "      <th>4</th>\n",
       "      <td>1</td>\n",
       "      <td>-0.195983</td>\n",
       "      <td>-0.375487</td>\n",
       "      <td>0.038409</td>\n",
       "      <td>0.140991</td>\n",
       "      <td>0.073589</td>\n",
       "      <td>0.179504</td>\n",
       "      <td>0.571470</td>\n",
       "      <td>-1</td>\n",
       "    </tr>\n",
       "  </tbody>\n",
       "</table>\n",
       "</div>"
      ],
      "text/plain": [
       "   one        x1        x2      x1^2      x2^2      x1x2   |x1-x2|   |x1+x2|  \\\n",
       "0    1 -0.779470  0.838221  0.607574  0.702615 -0.653369  1.617692  0.058751   \n",
       "1    1  0.155635  0.895377  0.024222  0.801701  0.139352  0.739743  1.051012   \n",
       "2    1 -0.059908 -0.717780  0.003589  0.515208  0.043001  0.657872  0.777688   \n",
       "3    1  0.207596  0.758933  0.043096  0.575980  0.157552  0.551337  0.966530   \n",
       "4    1 -0.195983 -0.375487  0.038409  0.140991  0.073589  0.179504  0.571470   \n",
       "\n",
       "   y  \n",
       "0  1  \n",
       "1  1  \n",
       "2  1  \n",
       "3  1  \n",
       "4 -1  "
      ]
     },
     "execution_count": 137,
     "metadata": {},
     "output_type": "execute_result"
    }
   ],
   "source": [
    "train.head()"
   ]
  },
  {
   "cell_type": "code",
   "execution_count": 105,
   "metadata": {
    "collapsed": false
   },
   "outputs": [
    {
     "data": {
      "text/plain": [
       "array([-1.64706706, -0.14505927,  0.10154121, -2.03296844, -1.82804373,\n",
       "        2.48152945,  4.15893861,  0.31651714])"
      ]
     },
     "execution_count": 105,
     "metadata": {},
     "output_type": "execute_result"
    }
   ],
   "source": [
    "def lin_reg(points, labels):\n",
    "    \"\"\"\n",
    "    Input: training points and labels\n",
    "    Output: in-sample classification error\n",
    "    \"\"\"\n",
    "    # Pseudo-inverse of X times y\n",
    "    return np.dot(np.linalg.pinv(points), labels)\n",
    "\n",
    "w_lin = lin_reg(train.ix[:, :-1], train['y'])\n",
    "w_lin"
   ]
  },
  {
   "cell_type": "code",
   "execution_count": 88,
   "metadata": {
    "collapsed": true
   },
   "outputs": [],
   "source": [
    "def classification_error(w, points, labels):\n",
    "    y_est = np.sign(np.dot(points, w))\n",
    "    return np.mean(y_est != labels)"
   ]
  },
  {
   "cell_type": "code",
   "execution_count": 89,
   "metadata": {
    "collapsed": false
   },
   "outputs": [
    {
     "name": "stdout",
     "output_type": "stream",
     "text": [
      "0.0285714285714\n",
      "0.084\n"
     ]
    }
   ],
   "source": [
    "# In-sample classification error\n",
    "print (classification_error(w_lin, train.ix[:, :-1], train['y']))\n",
    "\n",
    "# Out-of-sample classification error\n",
    "print (classification_error(w_lin, test.ix[:, :-1], test['y']))"
   ]
  },
  {
   "cell_type": "code",
   "execution_count": 107,
   "metadata": {
    "collapsed": false
   },
   "outputs": [
    {
     "data": {
      "text/plain": [
       "array([-1.6432827 , -0.14333537,  0.10144329, -2.02456533, -1.81721505,\n",
       "        2.45550685,  4.14009201,  0.31960135])"
      ]
     },
     "execution_count": 107,
     "metadata": {},
     "output_type": "execute_result"
    }
   ],
   "source": [
    "# With regularization\n",
    "def LR_reg(points, labels, k):\n",
    "    lambda_param = 10**k\n",
    "    A = np.linalg.inv(np.dot(points.T, points) + np.eye(points.shape[1])*lambda_param)\n",
    "    B = np.dot(points.T, labels)\n",
    "    return np.dot(A,B)\n",
    "\n",
    "w_small_k = LR_reg(train.ix[:, :-1], train['y'], -3)\n",
    "w_small_k"
   ]
  },
  {
   "cell_type": "code",
   "execution_count": 108,
   "metadata": {
    "collapsed": false
   },
   "outputs": [
    {
     "name": "stdout",
     "output_type": "stream",
     "text": [
      "0.0285714285714\n",
      "0.08\n"
     ]
    }
   ],
   "source": [
    "# In-sample classification error\n",
    "print (classification_error(w_small_k, train.ix[:, :-1], train['y']))\n",
    "\n",
    "# Out-of-sample classification error\n",
    "print (classification_error(w_small_k, test.ix[:, :-1], test['y']))"
   ]
  },
  {
   "cell_type": "code",
   "execution_count": 109,
   "metadata": {
    "collapsed": false
   },
   "outputs": [
    {
     "name": "stdout",
     "output_type": "stream",
     "text": [
      "[ 0.00435688 -0.00134416  0.0024939   0.00328695  0.00484127 -0.00862023\n",
      "  0.01786706 -0.00490192]\n"
     ]
    }
   ],
   "source": [
    "# With large k\n",
    "w_large_k = LR_reg(train.ix[:, :-1], train['y'], 3)\n",
    "print w_large_k"
   ]
  },
  {
   "cell_type": "code",
   "execution_count": 110,
   "metadata": {
    "collapsed": false
   },
   "outputs": [
    {
     "name": "stdout",
     "output_type": "stream",
     "text": [
      "0.371428571429\n",
      "0.436\n"
     ]
    }
   ],
   "source": [
    "# In-sample classification error\n",
    "print (classification_error(w_large_k, train.ix[:, :-1], train['y']))\n",
    "\n",
    "# Out-of-sample classification error\n",
    "print (classification_error(w_large_k, test.ix[:, :-1], test['y']))"
   ]
  },
  {
   "cell_type": "code",
   "execution_count": 143,
   "metadata": {
    "collapsed": false
   },
   "outputs": [
    {
     "name": "stdout",
     "output_type": "stream",
     "text": [
      "[0.22800000000000001, 0.124, 0.091999999999999998, 0.056000000000000001, 0.084000000000000005]\n",
      "The minimum error is 0.056, with k=-1.\n"
     ]
    }
   ],
   "source": [
    "# Find minimum E_out\n",
    "def min_E_out(ks):\n",
    "    errors = []\n",
    "    for k in ks:\n",
    "        w_est = LR_reg(train.ix[:, :-1], train['y'], k)\n",
    "        errors.append(classification_error(w_est, test.ix[:, :-1], test['y']))    \n",
    "    min_k = np.argmin(errors)\n",
    "    print (errors)\n",
    "    print (\"The minimum error is {}, with k={}.\").format(errors[min_k], ks[min_k])\n",
    "\n",
    "min_E_out([2, 1, 0, -1, -2])"
   ]
  },
  {
   "cell_type": "code",
   "execution_count": 144,
   "metadata": {
    "collapsed": false
   },
   "outputs": [
    {
     "name": "stdout",
     "output_type": "stream",
     "text": [
      "[0.084000000000000005, 0.084000000000000005, 0.084000000000000005, 0.084000000000000005, 0.084000000000000005, 0.084000000000000005, 0.084000000000000005, 0.080000000000000002, 0.084000000000000005, 0.056000000000000001, 0.091999999999999998, 0.124, 0.22800000000000001, 0.436, 0.45200000000000001, 0.45600000000000002, 0.45600000000000002, 0.45600000000000002, 0.45600000000000002, 0.45600000000000002, 0.45600000000000002]\n",
      "The minimum error is 0.056, with k=-1.\n"
     ]
    }
   ],
   "source": [
    "min_E_out(range(-10,11))"
   ]
  }
 ],
 "metadata": {
  "kernelspec": {
   "display_name": "Python 2",
   "language": "python",
   "name": "python2"
  },
  "language_info": {
   "codemirror_mode": {
    "name": "ipython",
    "version": 2
   },
   "file_extension": ".py",
   "mimetype": "text/x-python",
   "name": "python",
   "nbconvert_exporter": "python",
   "pygments_lexer": "ipython2",
   "version": "2.7.10"
  }
 },
 "nbformat": 4,
 "nbformat_minor": 0
}
