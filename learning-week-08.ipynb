{
 "cells": [
  {
   "cell_type": "markdown",
   "metadata": {},
   "source": [
    "# Learning from Data Week 8"
   ]
  },
  {
   "cell_type": "code",
   "execution_count": 8,
   "metadata": {
    "collapsed": true
   },
   "outputs": [],
   "source": [
    "from __future__ import division, print_function, unicode_literals\n",
    "import numpy as np\n",
    "import pandas as pd\n",
    "from sklearn.svm import SVC\n",
    "from sklearn.cross_validation import KFold, cross_val_score\n",
    "from sklearn.metrics import make_scorer\n",
    "from collections import Counter\n",
    "import matplotlib.pyplot as plt\n",
    "import seaborn as sns\n",
    "%matplotlib inline"
   ]
  },
  {
   "cell_type": "markdown",
   "metadata": {},
   "source": [
    "### Problem 2"
   ]
  },
  {
   "cell_type": "code",
   "execution_count": 2,
   "metadata": {
    "collapsed": true
   },
   "outputs": [],
   "source": [
    "# Load data\n",
    "cols = [\"digit\", \"intensity\", \"symmetry\"]\n",
    "train = pd.read_table(\"features.train\", header=None, names=cols, sep=r'\\s+')\n",
    "test = pd.read_table(\"features.test\", header=None, names=cols, sep=r'\\s+')"
   ]
  },
  {
   "cell_type": "code",
   "execution_count": 3,
   "metadata": {
    "collapsed": false
   },
   "outputs": [
    {
     "data": {
      "text/html": [
       "<div>\n",
       "<table border=\"1\" class=\"dataframe\">\n",
       "  <thead>\n",
       "    <tr style=\"text-align: right;\">\n",
       "      <th></th>\n",
       "      <th>digit</th>\n",
       "      <th>intensity</th>\n",
       "      <th>symmetry</th>\n",
       "    </tr>\n",
       "  </thead>\n",
       "  <tbody>\n",
       "    <tr>\n",
       "      <th>0</th>\n",
       "      <td>6</td>\n",
       "      <td>0.341092</td>\n",
       "      <td>-4.528937</td>\n",
       "    </tr>\n",
       "    <tr>\n",
       "      <th>1</th>\n",
       "      <td>5</td>\n",
       "      <td>0.444131</td>\n",
       "      <td>-5.496812</td>\n",
       "    </tr>\n",
       "    <tr>\n",
       "      <th>2</th>\n",
       "      <td>4</td>\n",
       "      <td>0.231002</td>\n",
       "      <td>-2.886750</td>\n",
       "    </tr>\n",
       "    <tr>\n",
       "      <th>3</th>\n",
       "      <td>7</td>\n",
       "      <td>0.200275</td>\n",
       "      <td>-3.534375</td>\n",
       "    </tr>\n",
       "    <tr>\n",
       "      <th>4</th>\n",
       "      <td>3</td>\n",
       "      <td>0.291936</td>\n",
       "      <td>-4.352062</td>\n",
       "    </tr>\n",
       "  </tbody>\n",
       "</table>\n",
       "</div>"
      ],
      "text/plain": [
       "   digit  intensity  symmetry\n",
       "0      6   0.341092 -4.528937\n",
       "1      5   0.444131 -5.496812\n",
       "2      4   0.231002 -2.886750\n",
       "3      7   0.200275 -3.534375\n",
       "4      3   0.291936 -4.352062"
      ]
     },
     "execution_count": 3,
     "metadata": {},
     "output_type": "execute_result"
    }
   ],
   "source": [
    "train.head()"
   ]
  },
  {
   "cell_type": "code",
   "execution_count": 179,
   "metadata": {
    "collapsed": false
   },
   "outputs": [
    {
     "name": "stdout",
     "output_type": "stream",
     "text": [
      "E_in for 0-versus-all: 0.152105335345.\n",
      "Number of support vectors: 2389.\n",
      "E_in for 2-versus-all: 0.100260595254.\n",
      "Number of support vectors: 1974.\n",
      "E_in for 4-versus-all: 0.0894253188863.\n",
      "Number of support vectors: 1887.\n",
      "E_in for 6-versus-all: 0.0910711836511.\n",
      "Number of support vectors: 1828.\n",
      "E_in for 8-versus-all: 0.0743382252092.\n",
      "Number of support vectors: 1739.\n"
     ]
    }
   ],
   "source": [
    "# Evaluate \"one versus all\" models\n",
    "def one_versus_all(digits, svm):\n",
    "    # Build model for each digit\n",
    "    for d in digits:\n",
    "        labels = train['digit'] == d\n",
    "        features = train[[\"intensity\", \"symmetry\"]]            \n",
    "        svm.fit(features, labels)\n",
    "        preds = svm.predict(features)\n",
    "        # Binary classification error\n",
    "        error = np.mean(labels != preds)\n",
    "        print (\"E_in for {}-versus-all: {}.\".format(d, error))\n",
    "        print (\"Number of support vectors: {}.\".format(sum(svm.n_support_)))\n",
    "\n",
    "one_versus_all([0,2,4,6,8], SVC(C=0.01, kernel=b'poly', degree=2, coef0=1))"
   ]
  },
  {
   "cell_type": "markdown",
   "metadata": {},
   "source": [
    "### Problem 3"
   ]
  },
  {
   "cell_type": "code",
   "execution_count": 15,
   "metadata": {
    "collapsed": false
   },
   "outputs": [
    {
     "name": "stdout",
     "output_type": "stream",
     "text": [
      "E_in for 1-versus-all: 0.014812782883.\n",
      "Number of support vectors: 482.\n",
      "E_in for 3-versus-all: 0.0902482512687.\n",
      "Number of support vectors: 1928.\n",
      "E_in for 5-versus-all: 0.0762584007681.\n",
      "Number of support vectors: 1575.\n",
      "E_in for 7-versus-all: 0.0884652311068.\n",
      "Number of support vectors: 1786.\n",
      "E_in for 9-versus-all: 0.0883280757098.\n",
      "Number of support vectors: 2013.\n"
     ]
    }
   ],
   "source": [
    "one_versus_all([1,3,5,7,9], SVC(C=0.01, kernel=b'poly', degree=2, coef0=1))"
   ]
  },
  {
   "cell_type": "markdown",
   "metadata": {},
   "source": [
    "### Problem 4"
   ]
  },
  {
   "cell_type": "code",
   "execution_count": 17,
   "metadata": {
    "collapsed": false
   },
   "outputs": [
    {
     "data": {
      "text/plain": [
       "1907"
      ]
     },
     "execution_count": 17,
     "metadata": {},
     "output_type": "execute_result"
    }
   ],
   "source": [
    "2389 - 482"
   ]
  },
  {
   "cell_type": "markdown",
   "metadata": {},
   "source": [
    "### Problem 5"
   ]
  },
  {
   "cell_type": "code",
   "execution_count": 19,
   "metadata": {
    "collapsed": false
   },
   "outputs": [
    {
     "data": {
      "image/png": "[encoded data removed]",
      "text/plain": [
       "<matplotlib.figure.Figure at 0x10c7ffd50>"
      ]
     },
     "metadata": {},
     "output_type": "display_data"
    }
   ],
   "source": [
    "# Plot 1-versus-5 data\n",
    "def plot_ovo(digit_1, digit_2):\n",
    "    train_ovo = train[(train['digit']==digit_1) | (train['digit']==digit_2)].reset_index(drop=True)\n",
    "    train_ovo['labels'] = train_ovo['digit'] == digit_1\n",
    "    \n",
    "    sns.lmplot(\"intensity\", \"symmetry\", data=train_ovo, hue='labels', size=10, fit_reg=False)\n",
    "    \n",
    "plot_ovo(1,5)"
   ]
  },
  {
   "cell_type": "code",
   "execution_count": 188,
   "metadata": {
    "collapsed": false
   },
   "outputs": [
    {
     "name": "stdout",
     "output_type": "stream",
     "text": [
      "C: 0.0001\n",
      "\tE_in for 1-versus-5: 0.0185778347213.\n",
      "\tE_out for 1-versus-5: 0.0283018867925.\n",
      "\tNumber of support vectors: 478.\n",
      "C: 0.001\n",
      "\tE_in for 1-versus-5: 0.00640614990391.\n",
      "\tE_out for 1-versus-5: 0.0188679245283.\n",
      "\tNumber of support vectors: 142.\n",
      "C: 0.01\n",
      "\tE_in for 1-versus-5: 0.00448430493274.\n",
      "\tE_out for 1-versus-5: 0.0188679245283.\n",
      "\tNumber of support vectors: 52.\n",
      "C: 0.1\n",
      "\tE_in for 1-versus-5: 0.00448430493274.\n",
      "\tE_out for 1-versus-5: 0.0212264150943.\n",
      "\tNumber of support vectors: 28.\n",
      "C: 1\n",
      "\tE_in for 1-versus-5: 0.00384368994234.\n",
      "\tE_out for 1-versus-5: 0.0188679245283.\n",
      "\tNumber of support vectors: 24.\n"
     ]
    }
   ],
   "source": [
    "# Evaluate \"one versus one\" models\n",
    "def one_versus_one(digit_1, digit_2, kernel, c_vector, Q=2):\n",
    "    '''\n",
    "    SVM one-versus-one classifier\n",
    "    '''\n",
    "    # Select examples and features\n",
    "    train_ovo = train[(train['digit']==digit_1) | (train['digit']==digit_2)]\n",
    "    test_ovo = test[(test['digit']==digit_1) | (test['digit']==digit_2)]\n",
    "    train_labels, test_labels = train_ovo['digit'] == digit_1, test_ovo['digit'] == digit_1\n",
    "    train_features, test_features = train_ovo[[\"intensity\", \"symmetry\"]], test_ovo[[\"intensity\", \"symmetry\"]]    \n",
    "    # Fit different models\n",
    "    for c in c_vector:    \n",
    "        svm = SVC(C=c, kernel=kernel, degree=Q, coef0=1)\n",
    "        svm.fit(train_features, train_labels)\n",
    "        preds_in, preds_out = svm.predict(train_features), svm.predict(test_features)\n",
    "        # Report results\n",
    "        E_in, E_out = np.mean(train_labels != preds_in), np.mean(test_labels != preds_out)\n",
    "        print (\"C: {}\".format(c))\n",
    "        print (\"\\tE_in for {}-versus-{}: {}.\".format(digit_1, digit_2, E_in))\n",
    "        print (\"\\tE_out for {}-versus-{}: {}.\".format(digit_1, digit_2, E_out))\n",
    "        print (\"\\tNumber of support vectors: {}.\".format(sum(svm.n_support_)))        \n",
    "\n",
    "one_versus_one(1, 5, b'poly', [0.0001, 0.001, 0.01, 0.1, 1], 2)"
   ]
  },
  {
   "cell_type": "markdown",
   "metadata": {},
   "source": [
    "### Problem 6"
   ]
  },
  {
   "cell_type": "code",
   "execution_count": 40,
   "metadata": {
    "collapsed": false
   },
   "outputs": [
    {
     "name": "stdout",
     "output_type": "stream",
     "text": [
      "C: 0.0001\n",
      "\tE_in for 1-versus-5: 0.00512491992313.\n",
      "\tE_out for 1-versus-5: 0.0165094339623.\n",
      "\tNumber of support vectors: 34.\n",
      "C: 0.001\n",
      "\tE_in for 1-versus-5: 0.00448430493274.\n",
      "\tE_out for 1-versus-5: 0.0188679245283.\n",
      "\tNumber of support vectors: 26.\n",
      "C: 0.01\n",
      "\tE_in for 1-versus-5: 0.00384368994234.\n",
      "\tE_out for 1-versus-5: 0.0235849056604.\n",
      "\tNumber of support vectors: 25.\n",
      "C: 0.1\n",
      "\tE_in for 1-versus-5: 0.00384368994234.\n",
      "\tE_out for 1-versus-5: 0.0212264150943.\n",
      "\tNumber of support vectors: 23.\n",
      "C: 1\n",
      "\tE_in for 1-versus-5: 0.00320307495195.\n",
      "\tE_out for 1-versus-5: 0.0188679245283.\n",
      "\tNumber of support vectors: 26.\n"
     ]
    }
   ],
   "source": [
    "# Q = 5\n",
    "one_versus_one(1, 5, [0.0001, 0.001, 0.01, 0.1, 1], 5)"
   ]
  },
  {
   "cell_type": "markdown",
   "metadata": {},
   "source": [
    "### Problem 7"
   ]
  },
  {
   "cell_type": "code",
   "execution_count": 173,
   "metadata": {
    "collapsed": false
   },
   "outputs": [
    {
     "name": "stdout",
     "output_type": "stream",
     "text": [
      "0.001\n"
     ]
    }
   ],
   "source": [
    "# Evaluate \"one versus one\" models\n",
    "def ovo_CV(digit_1, digit_2, c_vector, Q, runs):\n",
    "    '''\n",
    "    SVM one-versus-one classifier with CV\n",
    "    '''\n",
    "    # Select examples and features\n",
    "    train_ovo = train[(train['digit']==digit_1) | (train['digit']==digit_2)].reset_index(drop=True)\n",
    "    labels = train_ovo['digit'] == digit_1\n",
    "    features = train_ovo[[\"intensity\", \"symmetry\"]]\n",
    "    np.random.seed(0)\n",
    "        \n",
    "    # Do multiple runs\n",
    "    best_c = []\n",
    "    for run in range(runs):\n",
    "        # 10-folder cross validation\n",
    "        kf = KFold(len(train_ovo), n_folds=10, shuffle=True)        \n",
    "        # Store E_cv for all c's\n",
    "        E_cv_all = []\n",
    "        for c in c_vector:\n",
    "            # Store E_val for each run\n",
    "            E_val_vector = []\n",
    "            for train_index, val_index in kf:\n",
    "                X_train, X_val = train_ovo.ix[train_index], train_ovo.ix[val_index]\n",
    "                y_train, y_val = labels[train_index], labels[val_index]\n",
    "                # Fit model\n",
    "                svm = SVC(C=c, kernel=b'poly', degree=Q, coef0=1)\n",
    "                svm.fit(X_train, y_train)\n",
    "                preds_val = svm.predict(X_val)\n",
    "                # Report results\n",
    "                E_val = np.mean(y_val != preds_val)\n",
    "                E_val_vector.append(E_val)\n",
    "            # Compute E_cv for 10-folds, for a particular c\n",
    "            E_cv = np.mean(E_val_vector)\n",
    "            # Construct vector with E_cv for all c's\n",
    "            E_cv_all.append(E_cv)\n",
    "        best_c.append(np.argmin(E_cv_all))\n",
    "    # Find best parameter c\n",
    "    optimum_c = c_vector[Counter(best_c).most_common(1)[0][0]]\n",
    "    print (optimum_c)\n",
    "\n",
    "ovo_CV(1, 5, [0.0001, 0.001, 0.01, 0.1, 1], 2, 10)"
   ]
  },
  {
   "cell_type": "markdown",
   "metadata": {},
   "source": [
    "### Problem 7 with sklearn function"
   ]
  },
  {
   "cell_type": "code",
   "execution_count": 148,
   "metadata": {
    "collapsed": false
   },
   "outputs": [
    {
     "name": "stdout",
     "output_type": "stream",
     "text": [
      "0.001\n"
     ]
    }
   ],
   "source": [
    "# Evaluate \"one versus one\" models\n",
    "def ovo_CV_sk(digit_1, digit_2, c_vector, Q, runs):\n",
    "    '''\n",
    "    SVM one-versus-one classifier with CV\n",
    "    '''\n",
    "    # Select examples and features\n",
    "    train_ovo = train[(train['digit']==digit_1) | (train['digit']==digit_2)].reset_index(drop=True)\n",
    "    labels = train_ovo['digit'] == digit_1\n",
    "    features = train_ovo[[\"intensity\", \"symmetry\"]]\n",
    "    np.random.seed(0)\n",
    "    # Make scorer\n",
    "    binary_error = make_scorer((lambda y, y_preds: np.mean(y != y_preds)))\n",
    "    \n",
    "    # Do multiple runs\n",
    "    best_c = []\n",
    "    for run in range(runs):\n",
    "        # 10-folder cross validation\n",
    "        kf = KFold(len(train_ovo), n_folds=10, shuffle=True)\n",
    "        # Store E_cv for all c's\n",
    "        E_cv_all = []\n",
    "        for c in c_vector:                    \n",
    "            # Select model\n",
    "            svm = SVC(C=c, kernel=b'poly', degree=Q, coef0=1)\n",
    "            E_val_vector = cross_val_score(svm, X=train_ovo, y=labels, scoring=binary_error, cv=kf)\n",
    "            # Compute E_cv for 10-folds, for a particular c\n",
    "            E_cv = np.mean(E_val_vector)\n",
    "            # Construct vector with E_cv for all c's\n",
    "            E_cv_all.append(E_cv)\n",
    "        best_c.append(np.argmin(E_cv_all))\n",
    "    # Find best parameter c\n",
    "    optimum_c = c_vector[Counter(best_c).most_common(1)[0][0]]\n",
    "    print (optimum_c)\n",
    "\n",
    "ovo_CV_sk(1, 5, [0.0001, 0.001, 0.01, 0.1, 1], 2, 10)"
   ]
  },
  {
   "cell_type": "markdown",
   "metadata": {},
   "source": [
    "### Problem 8"
   ]
  },
  {
   "cell_type": "code",
   "execution_count": 150,
   "metadata": {
    "collapsed": false
   },
   "outputs": [
    {
     "name": "stdout",
     "output_type": "stream",
     "text": [
      "0.0\n"
     ]
    }
   ],
   "source": [
    "def problem_8(digit_1, digit_2, c, Q, runs):\n",
    "    '''\n",
    "    SVM one-versus-one classifier with CV\n",
    "    '''\n",
    "    # Select examples and features\n",
    "    train_ovo = train[(train['digit']==digit_1) | (train['digit']==digit_2)].reset_index(drop=True)\n",
    "    labels = train_ovo['digit'] == digit_1\n",
    "    features = train_ovo[[\"intensity\", \"symmetry\"]]\n",
    "    np.random.seed(0)\n",
    "    # Make scorer\n",
    "    binary_error = make_scorer((lambda y, y_preds: np.mean(y != y_preds)))\n",
    "    \n",
    "    # Do multiple runs\n",
    "    E_cv_all = []\n",
    "    for run in range(runs):\n",
    "        # 10-folder cross validation\n",
    "        kf = KFold(len(train_ovo), n_folds=10, shuffle=True)\n",
    "        # Select model\n",
    "        svm = SVC(C=c, kernel=b'poly', degree=Q, coef0=1)\n",
    "        E_val_vector = cross_val_score(svm, X=train_ovo, y=labels, scoring=binary_error, cv=kf)\n",
    "        # Compute E_cv\n",
    "        E_cv_all.append(np.mean(E_val_vector))\n",
    "    print (np.mean(E_cv_all))\n",
    "\n",
    "problem_8(1, 5, 0.001, 2, 100)"
   ]
  },
  {
   "cell_type": "markdown",
   "metadata": {},
   "source": [
    "### Problem 9"
   ]
  },
  {
   "cell_type": "code",
   "execution_count": 189,
   "metadata": {
    "collapsed": false
   },
   "outputs": [
    {
     "name": "stdout",
     "output_type": "stream",
     "text": [
      "C: 0.01\n",
      "\tE_in for 1-versus-5: 0.00384368994234.\n",
      "\tE_out for 1-versus-5: 0.0212264150943.\n",
      "\tNumber of support vectors: 347.\n",
      "C: 1\n",
      "\tE_in for 1-versus-5: 0.00448430493274.\n",
      "\tE_out for 1-versus-5: 0.0212264150943.\n",
      "\tNumber of support vectors: 30.\n",
      "C: 100\n",
      "\tE_in for 1-versus-5: 0.00320307495195.\n",
      "\tE_out for 1-versus-5: 0.0188679245283.\n",
      "\tNumber of support vectors: 20.\n",
      "C: 10000.0\n",
      "\tE_in for 1-versus-5: 0.00256245996156.\n",
      "\tE_out for 1-versus-5: 0.0188679245283.\n",
      "\tNumber of support vectors: 17.\n",
      "C: 10000000.0\n",
      "\tE_in for 1-versus-5: 0.00128122998078.\n",
      "\tE_out for 1-versus-5: 0.0235849056604.\n",
      "\tNumber of support vectors: 16.\n"
     ]
    }
   ],
   "source": [
    "# RBF kernel\n",
    "one_versus_one(1, 5, b'rbf', [0.01,1,100,1e4,10e6])"
   ]
  }
 ],
 "metadata": {
  "kernelspec": {
   "display_name": "Python 2",
   "language": "python",
   "name": "python2"
  },
  "language_info": {
   "codemirror_mode": {
    "name": "ipython",
    "version": 2
   },
   "file_extension": ".py",
   "mimetype": "text/x-python",
   "name": "python",
   "nbconvert_exporter": "python",
   "pygments_lexer": "ipython2",
   "version": "2.7.11"
  }
 },
 "nbformat": 4,
 "nbformat_minor": 0
}
