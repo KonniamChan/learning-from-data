{
 "cells": [
  {
   "cell_type": "markdown",
   "metadata": {},
   "source": [
    "# Learning Week 5"
   ]
  },
  {
   "cell_type": "markdown",
   "metadata": {},
   "source": [
    "Questions provided here: \n",
    "https://work.caltech.edu/homework/hw5.pdf"
   ]
  },
  {
   "cell_type": "code",
   "execution_count": 24,
   "metadata": {
    "collapsed": true
   },
   "outputs": [],
   "source": [
    "# Load modules\n",
    "%matplotlib inline\n",
    "import matplotlib.pyplot as plt\n",
    "import pandas as pd\n",
    "import numpy as np\n",
    "from __future__ import division\n",
    "from __future__ import print_function\n",
    "np.random.seed(0)"
   ]
  },
  {
   "cell_type": "markdown",
   "metadata": {},
   "source": [
    "## Question 5: Gradient Descent"
   ]
  },
  {
   "cell_type": "code",
   "execution_count": 4,
   "metadata": {
    "collapsed": false
   },
   "outputs": [
    {
     "name": "stdout",
     "output_type": "stream",
     "text": [
      "Initial weights: [1 1]\n",
      "Initial error: 3.93039723188\n",
      "Iteration 1\n",
      "\tCurrent weights: [-0.36954299  0.21392055]\n",
      "\tCurrent error: 1.15950972997\n",
      "Iteration 2\n",
      "\tCurrent weights: [ 0.03052069 -0.50793405]\n",
      "\tCurrent error: 1.00740748296\n",
      "Iteration 3\n",
      "\tCurrent weights: [ 0.10752311 -0.12221026]\n",
      "\tCurrent error: 0.0990091216273\n",
      "Iteration 4\n",
      "\tCurrent weights: [ 0.06564483 -0.01516656]\n",
      "\tCurrent error: 0.00866064536281\n",
      "Iteration 5\n",
      "\tCurrent weights: [ 0.04784117  0.0184899 ]\n",
      "\tCurrent error: 0.000181755791728\n",
      "Iteration 6\n",
      "\tCurrent weights: [ 0.04499946  0.02349925]\n",
      "\tCurrent error: 1.29723984784e-06\n",
      "Iteration 7\n",
      "\tCurrent weights: [ 0.04475602  0.0239243 ]\n",
      "\tCurrent error: 7.29152469846e-09\n",
      "Iteration 8\n",
      "\tCurrent weights: [ 0.04473775  0.02395617]\n",
      "\tCurrent error: 4.00999789056e-11\n",
      "Iteration 9\n",
      "\tCurrent weights: [ 0.04473639  0.02395854]\n",
      "\tCurrent error: 2.20168344841e-13\n",
      "Iteration 10\n",
      "\tCurrent weights: [ 0.04473629  0.02395871]\n",
      "\tCurrent error: 1.20868339442e-15\n"
     ]
    }
   ],
   "source": [
    "# Function to optimize\n",
    "def error_func (w):\n",
    "    u,v = w[0], w[1]\n",
    "    return (u*np.exp(v) - 2*v*np.exp(-u))**2\n",
    "# Partial derivatives\n",
    "def grad(w):\n",
    "    u,v = w[0], w[1]\n",
    "    partial_u = 2*(u*np.exp(v) - 2*v*np.exp(-u))*(np.exp(v) + 2*v*np.exp(-u))\n",
    "    partial_v = 2*(u*np.exp(v) - 2*v*np.exp(-u))*(u*np.exp(v) - 2*np.exp(-u))\n",
    "    return np.array([partial_u, partial_v])\n",
    "\n",
    "def gradient_descent(iters):\n",
    "    # Initialize at (1,1)\n",
    "    learning_rate = 0.1\n",
    "    w = np.array([1,1])\n",
    "    print (\"Initial weights: {}\".format(w))\n",
    "    print (\"Initial error: {}\".format(error_func(w)))\n",
    "    \n",
    "    # Iterate\n",
    "    for i in range(iters):\n",
    "        w = w - learning_rate*grad(w)\n",
    "        print (\"Iteration {}\".format(i+1))\n",
    "        print (\"\\tCurrent weights: {}\".format(w))\n",
    "        print (\"\\tCurrent error: {}\".format(error_func(w)))\n",
    "    \n",
    "gradient_descent(10)"
   ]
  },
  {
   "cell_type": "markdown",
   "metadata": {},
   "source": [
    "## Question 7: Coordinate Descent"
   ]
  },
  {
   "cell_type": "code",
   "execution_count": 5,
   "metadata": {
    "collapsed": false
   },
   "outputs": [
    {
     "name": "stdout",
     "output_type": "stream",
     "text": [
      "Initial weights: [1 1]\n",
      "Initial error: 3.93039723188\n",
      "Iteration 1\n",
      "\tCurrent weights: [-0.36954299 -2.03992288]\n",
      "\tCurrent error: 34.2901631123\n",
      "Iteration 2\n",
      "\tCurrent weights: [ 6.39247376 -2.17869889]\n",
      "\tCurrent error: 0.534142591372\n",
      "Iteration 3\n",
      "\tCurrent weights: [ 6.37699523 -2.28347262]\n",
      "\tCurrent error: 0.432660827324\n",
      "Iteration 4\n",
      "\tCurrent weights: [ 6.36460749 -2.36821379]\n",
      "\tCurrent error: 0.365039735019\n",
      "Iteration 5\n",
      "\tCurrent weights: [ 6.35427659 -2.43959481]\n",
      "\tCurrent error: 0.31646807536\n",
      "Iteration 6\n",
      "\tCurrent weights: [ 6.34542086 -2.50137528]\n",
      "\tCurrent error: 0.279763423064\n",
      "Iteration 7\n",
      "\tCurrent weights: [ 6.33767806 -2.55589957]\n",
      "\tCurrent error: 0.250986311675\n",
      "Iteration 8\n",
      "\tCurrent weights: [ 6.33080628 -2.60473485]\n",
      "\tCurrent error: 0.227783298944\n",
      "Iteration 9\n",
      "\tCurrent weights: [ 6.32463553 -2.64898351]\n",
      "\tCurrent error: 0.208656695724\n",
      "Iteration 10\n",
      "\tCurrent weights: [ 6.31904159 -2.689452  ]\n",
      "\tCurrent error: 0.192605658614\n",
      "Iteration 11\n",
      "\tCurrent weights: [ 6.31393077 -2.72674885]\n",
      "\tCurrent error: 0.178934748408\n",
      "Iteration 12\n",
      "\tCurrent weights: [ 6.30923067 -2.76134507]\n",
      "\tCurrent error: 0.167145054343\n",
      "Iteration 13\n",
      "\tCurrent weights: [ 6.30488407 -2.79361293]\n",
      "\tCurrent error: 0.15686898733\n",
      "Iteration 14\n",
      "\tCurrent weights: [ 6.30084499 -2.82385199]\n",
      "\tCurrent error: 0.147829522524\n",
      "Iteration 15\n",
      "\tCurrent weights: [ 6.2970759  -2.85230695]\n",
      "\tCurrent error: 0.139813791996\n"
     ]
    }
   ],
   "source": [
    "def coordinate_descent(iters):\n",
    "    # Initialize at (1,1)\n",
    "    learning_rate = 0.1\n",
    "    w = np.array([1,1])\n",
    "    print (\"Initial weights: {}\".format(w))\n",
    "    print (\"Initial error: {}\".format(error_func(w)))\n",
    "    \n",
    "    # Iterate\n",
    "    for i in range(iters):\n",
    "        # Step along u\n",
    "        w = w - learning_rate * np.array([grad(w)[0], 0])\n",
    "        # Step along v\n",
    "        w = w - learning_rate * np.array([0, grad(w)[1]])\n",
    "        print (\"Iteration {}\".format(i+1))\n",
    "        print (\"\\tCurrent weights: {}\".format(w))\n",
    "        print (\"\\tCurrent error: {}\".format(error_func(w)))\n",
    "\n",
    "coordinate_descent(15)"
   ]
  },
  {
   "cell_type": "markdown",
   "metadata": {},
   "source": [
    "Coordinate descent performs substantially worse than the plain gradient descent algorithm."
   ]
  },
  {
   "cell_type": "markdown",
   "metadata": {
    "collapsed": true
   },
   "source": [
    "## Question 8: Logistic Regression, with SGD"
   ]
  },
  {
   "cell_type": "code",
   "execution_count": 6,
   "metadata": {
    "collapsed": true
   },
   "outputs": [],
   "source": [
    "from numpy.random import uniform\n",
    "# Define function to generate random points\n",
    "def generate_points(N):\n",
    "    \"\"\"\n",
    "    Input: number of random points to be generated in [-1,1]x[-1,1]\n",
    "    Output: coordinates of points, adding x0 = 1's\n",
    "    \"\"\"\n",
    "    xs = uniform(-1,1,N)\n",
    "    ys = uniform(-1,1,N)\n",
    "    # Generate vector of ones in the 0th column\n",
    "    return np.array(zip(np.ones(N), xs, ys))"
   ]
  },
  {
   "cell_type": "code",
   "execution_count": 7,
   "metadata": {
    "collapsed": true
   },
   "outputs": [],
   "source": [
    "# Create function f and assign positives and negatives\n",
    "def assignment(points):\n",
    "    \"\"\"\n",
    "    Input: random points\n",
    "    Output: positive and negative labels, according to random linear function f that separates these points\n",
    "    \"\"\"\n",
    "    # Randomly select 2 2-D points and 1 direction\n",
    "    (x1, y1, x2, y2, direction) = uniform(-1,1,5)\n",
    "    # Calculate slope and intercept\n",
    "    m = (y2 - y1) / (x2 - x1)\n",
    "    b = y1 - m*x1\n",
    "    # Convert to a weight vector\n",
    "    w = [-b, -m * np.sign(direction), 1*np.sign(direction)]  \n",
    "    # Label points\n",
    "    labels = np.sign(np.dot(points, w))    \n",
    "    return (w, labels)"
   ]
  },
  {
   "cell_type": "code",
   "execution_count": 13,
   "metadata": {
    "collapsed": false
   },
   "outputs": [
    {
     "data": {
      "image/png": "[encoded data removed]",
      "text/plain": [
       "<matplotlib.figure.Figure at 0x10796c510>"
      ]
     },
     "metadata": {},
     "output_type": "display_data"
    }
   ],
   "source": [
    "# Plot random points to ensure randomization works correctly\n",
    "def test_random():\n",
    "    random_points = generate_points(100)\n",
    "    (w, labels) = assignment(random_points)\n",
    "    plt.figure(figsize=(15,15))\n",
    "    plt.plot(random_points[labels==1][:,1], random_points[labels==1][:,2], 'bo')\n",
    "    plt.plot(random_points[labels==-1][:,1], random_points[labels==-1][:,2], 'ro')\n",
    "    \n",
    "test_random()"
   ]
  },
  {
   "cell_type": "code",
   "execution_count": 35,
   "metadata": {
    "collapsed": false,
    "scrolled": true
   },
   "outputs": [
    {
     "data": {
      "text/plain": [
       "(335,\n",
       " array([ 4.41143258, -3.97736165,  6.20298096]),\n",
       " 0.0099979206787903698,\n",
       " 0.1107229401853158)"
      ]
     },
     "execution_count": 35,
     "metadata": {},
     "output_type": "execute_result"
    }
   ],
   "source": [
    "# Error function at a point\n",
    "cross_entropy = lambda w, x, y: np.log(1 + np.exp(-y * np.dot(w,x)))\n",
    "\n",
    "# Error function over all points\n",
    "total_cross_entropy = lambda w, X, Y: np.mean([cross_entropy(w, X[i], Y[i]) for i in range(X.shape[0])])\n",
    "    \n",
    "# Gradient of error function\n",
    "logistic_gradient = lambda w, x, y: (-y * x)/(1 + np.exp(y * np.dot(w,x)))\n",
    "    \n",
    "# Logistic regression algorithm\n",
    "def logistic_regression(N_train, N_test):\n",
    "    # Generate training points\n",
    "    train_points, test_points = generate_points(N_train), generate_points(N_test)\n",
    "    # Assign training labels, w_func is the function f to be modeled\n",
    "    w_func, train_labels = assignment(train_points)\n",
    "    # Assign test labels\n",
    "    test_labels = np.sign(np.dot(test_points, w_func))\n",
    "    \n",
    "    # Initialize weight vector to all zeros, difference in weights to above 0.01, counter to 0\n",
    "    w = np.zeros(3)\n",
    "    w_diff = 1\n",
    "    counter = 0\n",
    "    learning_rate = 0.01\n",
    "    \n",
    "    # Iterate over epochs\n",
    "    while w_diff > 0.01:\n",
    "        w_prev = w\n",
    "        # Choose a random permutation of training data to use (SGD)\n",
    "        current_perm = np.random.permutation(N_train)\n",
    "        # Iterate over each point\n",
    "        for index in current_perm:\n",
    "            x = train_points[index]\n",
    "            y = train_labels[index]\n",
    "            w = w - learning_rate * logistic_gradient(w, x, y)\n",
    "        \n",
    "        # Current iteration info        \n",
    "        E_out = total_cross_entropy(w, test_points, test_labels)\n",
    "        w_diff = np.linalg.norm(w_prev - w)\n",
    "        counter += 1\n",
    "        # Optional printing\n",
    "        # print (\"\\tCurrent weights: {}\".format(w))\n",
    "        # print (\"\\tCurrent w_diff: {}\".format(w_diff))\n",
    "        # print (\"\\tCurrent E_out: {}\".format(E_out))\n",
    "    return counter, w, w_diff, E_out\n",
    "        \n",
    "logistic_regression(100,1000)"
   ]
  },
  {
   "cell_type": "code",
   "execution_count": 36,
   "metadata": {
    "collapsed": false
   },
   "outputs": [
    {
     "data": {
      "text/plain": [
       "(0.10429327875913021, 335.99000000000001)"
      ]
     },
     "execution_count": 36,
     "metadata": {},
     "output_type": "execute_result"
    }
   ],
   "source": [
    "# Iterate over 100 runs to obtain average E_out and average number of epochs\n",
    "def logistic_avg(N_runs):\n",
    "    E_outs, epochs = [], []\n",
    "    for i in range(N_runs):\n",
    "        counter, w, w_diff, E_out = logistic_regression(100,1000)\n",
    "        E_outs.append(E_out)\n",
    "        epochs.append(counter)\n",
    "    return np.mean(E_outs), np.mean(epochs)\n",
    "\n",
    "logistic_avg(100)"
   ]
  }
 ],
 "metadata": {
  "kernelspec": {
   "display_name": "Python 2",
   "language": "python",
   "name": "python2"
  },
  "language_info": {
   "codemirror_mode": {
    "name": "ipython",
    "version": 2
   },
   "file_extension": ".py",
   "mimetype": "text/x-python",
   "name": "python",
   "nbconvert_exporter": "python",
   "pygments_lexer": "ipython2",
   "version": "2.7.10"
  }
 },
 "nbformat": 4,
 "nbformat_minor": 0
}
