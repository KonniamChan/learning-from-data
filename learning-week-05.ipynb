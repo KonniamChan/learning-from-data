{
 "cells": [
  {
   "cell_type": "markdown",
   "metadata": {},
   "source": [
    "# Learning Week 5"
   ]
  },
  {
   "cell_type": "markdown",
   "metadata": {},
   "source": [
    "Questions provided here: \n",
    "https://work.caltech.edu/homework/hw5.pdf"
   ]
  },
  {
   "cell_type": "code",
   "execution_count": 1,
   "metadata": {
    "collapsed": true
   },
   "outputs": [],
   "source": [
    "# Load modules\n",
    "%matplotlib inline\n",
    "import matplotlib.pyplot as plt\n",
    "import pandas as pd\n",
    "import numpy as np\n",
    "from __future__ import division\n",
    "from __future__ import print_function"
   ]
  },
  {
   "cell_type": "markdown",
   "metadata": {},
   "source": [
    "## Question 5"
   ]
  },
  {
   "cell_type": "code",
   "execution_count": 21,
   "metadata": {
    "collapsed": false
   },
   "outputs": [
    {
     "name": "stdout",
     "output_type": "stream",
     "text": [
      "Initial weights: [1 1]\n",
      "Initial error: 3.93039723188\n",
      "Iteration 1\n",
      "\tCurrent weights: [-0.36954299  0.21392055]\n",
      "\tCurrent error: 1.15950972997\n",
      "Iteration 2\n",
      "\tCurrent weights: [ 0.03052069 -0.50793405]\n",
      "\tCurrent error: 1.00740748296\n",
      "Iteration 3\n",
      "\tCurrent weights: [ 0.10752311 -0.12221026]\n",
      "\tCurrent error: 0.0990091216273\n",
      "Iteration 4\n",
      "\tCurrent weights: [ 0.06564483 -0.01516656]\n",
      "\tCurrent error: 0.00866064536281\n",
      "Iteration 5\n",
      "\tCurrent weights: [ 0.04784117  0.0184899 ]\n",
      "\tCurrent error: 0.000181755791728\n",
      "Iteration 6\n",
      "\tCurrent weights: [ 0.04499946  0.02349925]\n",
      "\tCurrent error: 1.29723984784e-06\n",
      "Iteration 7\n",
      "\tCurrent weights: [ 0.04475602  0.0239243 ]\n",
      "\tCurrent error: 7.29152469846e-09\n",
      "Iteration 8\n",
      "\tCurrent weights: [ 0.04473775  0.02395617]\n",
      "\tCurrent error: 4.00999789056e-11\n",
      "Iteration 9\n",
      "\tCurrent weights: [ 0.04473639  0.02395854]\n",
      "\tCurrent error: 2.20168344841e-13\n",
      "Iteration 10\n",
      "\tCurrent weights: [ 0.04473629  0.02395871]\n",
      "\tCurrent error: 1.20868339442e-15\n"
     ]
    }
   ],
   "source": [
    "# Function to optimize\n",
    "def error_func (w):\n",
    "    u,v = w[0], w[1]\n",
    "    return (u*np.exp(v) - 2*v*np.exp(-u))**2\n",
    "# Partial derivatives\n",
    "def grad(w):\n",
    "    u,v = w[0], w[1]\n",
    "    partial_u = 2*(u*np.exp(v) - 2*v*np.exp(-u))*(np.exp(v) + 2*v*np.exp(-u))\n",
    "    partial_v = 2*(u*np.exp(v) - 2*v*np.exp(-u))*(u*np.exp(v) - 2*np.exp(-u))\n",
    "    return np.array([partial_u, partial_v])\n",
    "\n",
    "def gradient_descent(iters):\n",
    "    # Initialize at (1,1)\n",
    "    learning_rate = 0.1\n",
    "    w = np.array([1,1])\n",
    "    print (\"Initial weights: {}\".format(w))\n",
    "    print (\"Initial error: {}\".format(error_func(w)))\n",
    "    \n",
    "    # Iterate\n",
    "    for i in range(iters):\n",
    "        w = w - learning_rate*grad(w)\n",
    "        print (\"Iteration {}\".format(i+1))\n",
    "        print (\"\\tCurrent weights: {}\".format(w))\n",
    "        print (\"\\tCurrent error: {}\".format(error_func(w)))\n",
    "    \n",
    "gradient_descent(10)"
   ]
  },
  {
   "cell_type": "markdown",
   "metadata": {},
   "source": [
    "## Question 7"
   ]
  },
  {
   "cell_type": "code",
   "execution_count": 23,
   "metadata": {
    "collapsed": false
   },
   "outputs": [
    {
     "name": "stdout",
     "output_type": "stream",
     "text": [
      "Initial weights: [1 1]\n",
      "Initial error: 3.93039723188\n",
      "Iteration 1\n",
      "\tCurrent weights: [-0.36954299 -2.03992288]\n",
      "\tCurrent error: 34.2901631123\n",
      "Iteration 2\n",
      "\tCurrent weights: [ 6.39247376 -2.17869889]\n",
      "\tCurrent error: 0.534142591372\n",
      "Iteration 3\n",
      "\tCurrent weights: [ 6.37699523 -2.28347262]\n",
      "\tCurrent error: 0.432660827324\n",
      "Iteration 4\n",
      "\tCurrent weights: [ 6.36460749 -2.36821379]\n",
      "\tCurrent error: 0.365039735019\n",
      "Iteration 5\n",
      "\tCurrent weights: [ 6.35427659 -2.43959481]\n",
      "\tCurrent error: 0.31646807536\n",
      "Iteration 6\n",
      "\tCurrent weights: [ 6.34542086 -2.50137528]\n",
      "\tCurrent error: 0.279763423064\n",
      "Iteration 7\n",
      "\tCurrent weights: [ 6.33767806 -2.55589957]\n",
      "\tCurrent error: 0.250986311675\n",
      "Iteration 8\n",
      "\tCurrent weights: [ 6.33080628 -2.60473485]\n",
      "\tCurrent error: 0.227783298944\n",
      "Iteration 9\n",
      "\tCurrent weights: [ 6.32463553 -2.64898351]\n",
      "\tCurrent error: 0.208656695724\n",
      "Iteration 10\n",
      "\tCurrent weights: [ 6.31904159 -2.689452  ]\n",
      "\tCurrent error: 0.192605658614\n",
      "Iteration 11\n",
      "\tCurrent weights: [ 6.31393077 -2.72674885]\n",
      "\tCurrent error: 0.178934748408\n",
      "Iteration 12\n",
      "\tCurrent weights: [ 6.30923067 -2.76134507]\n",
      "\tCurrent error: 0.167145054343\n",
      "Iteration 13\n",
      "\tCurrent weights: [ 6.30488407 -2.79361293]\n",
      "\tCurrent error: 0.15686898733\n",
      "Iteration 14\n",
      "\tCurrent weights: [ 6.30084499 -2.82385199]\n",
      "\tCurrent error: 0.147829522524\n",
      "Iteration 15\n",
      "\tCurrent weights: [ 6.2970759  -2.85230695]\n",
      "\tCurrent error: 0.139813791996\n"
     ]
    }
   ],
   "source": [
    "def coordinate_descent(iters):\n",
    "    # Initialize at (1,1)\n",
    "    learning_rate = 0.1\n",
    "    w = np.array([1,1])\n",
    "    print (\"Initial weights: {}\".format(w))\n",
    "    print (\"Initial error: {}\".format(error_func(w)))\n",
    "    \n",
    "    # Iterate\n",
    "    for i in range(iters):\n",
    "        # Step along u\n",
    "        w = w - learning_rate * np.array([grad(w)[0], 0])\n",
    "        # Step along v\n",
    "        w = w - learning_rate * np.array([0, grad(w)[1]])\n",
    "        print (\"Iteration {}\".format(i+1))\n",
    "        print (\"\\tCurrent weights: {}\".format(w))\n",
    "        print (\"\\tCurrent error: {}\".format(error_func(w)))\n",
    "\n",
    "coordinate_descent(15)"
   ]
  },
  {
   "cell_type": "markdown",
   "metadata": {},
   "source": [
    "Coordinate descent performs substantially worse than the plain gradient descent algorithm."
   ]
  },
  {
   "cell_type": "code",
   "execution_count": null,
   "metadata": {
    "collapsed": true
   },
   "outputs": [],
   "source": []
  }
 ],
 "metadata": {
  "kernelspec": {
   "display_name": "Python 2",
   "language": "python",
   "name": "python2"
  },
  "language_info": {
   "codemirror_mode": {
    "name": "ipython",
    "version": 2
   },
   "file_extension": ".py",
   "mimetype": "text/x-python",
   "name": "python",
   "nbconvert_exporter": "python",
   "pygments_lexer": "ipython2",
   "version": "2.7.10"
  }
 },
 "nbformat": 4,
 "nbformat_minor": 0
}
